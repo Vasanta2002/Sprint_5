{
  "cells": [
    {
      "cell_type": "markdown",
      "metadata": {
        "id": "ueYByqfroTMW"
      },
      "source": [
        "BloomTech Data Science\n",
        "\n",
        "*Unit 2, Sprint 1, Module 2*\n",
        "\n",
        "---"
      ]
    },
    {
      "cell_type": "code",
      "execution_count": 64,
      "metadata": {
        "id": "ma0VwqnZoTMY"
      },
      "outputs": [],
      "source": [
        "%%capture\n",
        "import sys\n",
        "\n",
        "# If you're on Colab:\n",
        "if 'google.colab' in sys.modules:\n",
        "    DATA_PATH = 'https://raw.githubusercontent.com/LambdaSchool/DS-Unit-2-Applied-Modeling/master/data/'\n",
        "\n",
        "# If you're working locally:\n",
        "else:\n",
        "    DATA_PATH = '../data/'"
      ]
    },
    {
      "cell_type": "markdown",
      "metadata": {
        "id": "OAWq7bfMoTMY"
      },
      "source": [
        "# Module Project: Regression II\n",
        "\n",
        "In this project, you'll continue working with the New York City rent dataset you used in the last module project.\n",
        "\n",
        "## Directions\n",
        "\n",
        "The tasks for this project are as follows:\n",
        "\n",
        "- **Task 1:** Import `csv` file using `wrangle` function.\n",
        "- **Task 2:** Conduct exploratory data analysis (EDA), and modify `wrangle` function to engineer two new features.\n",
        "- **Task 3:** Split data into feature matrix `X` and target vector `y`.\n",
        "- **Task 4:** Split feature matrix `X` and target vector `y` into training and test sets.\n",
        "- **Task 5:** Establish the baseline mean absolute error for your dataset.\n",
        "- **Task 6:** Build and train a `Linearregression` model.\n",
        "- **Task 7:** Calculate the training and test mean absolute error for your model.\n",
        "- **Task 8:** Calculate the training and test $R^2$ score for your model.\n",
        "- **Stretch Goal:** Determine the three most important features for your linear regression model.\n",
        "\n",
        "**Note**\n",
        "\n",
        "You should limit yourself to the following libraries for this project:\n",
        "\n",
        "- `matplotlib`\n",
        "- `numpy`\n",
        "- `pandas`\n",
        "- `sklearn`"
      ]
    },
    {
      "cell_type": "markdown",
      "metadata": {
        "id": "YZQkWfMIoTMZ"
      },
      "source": [
        "# I. Wrangle Data"
      ]
    },
    {
      "cell_type": "code",
      "source": [
        "import matplotlib.pyplot as plt\n",
        "import numpy as np\n",
        "import pandas as pd\n",
        "from sklearn.metrics import mean_absolute_error\n",
        "from sklearn.linear_model import LinearRegression\n",
        "from sklearn.metrics import r2_score\n"
      ],
      "metadata": {
        "id": "a5zE3Zk8yJKJ"
      },
      "execution_count": 78,
      "outputs": []
    },
    {
      "cell_type": "code",
      "execution_count": 66,
      "metadata": {
        "id": "RbKecQ8coTMZ"
      },
      "outputs": [],
      "source": [
        "def wrangle(filepath):\n",
        "    df = pd.read_csv(filepath, parse_dates=['created'], index_col='created')\n",
        "    \n",
        "    # Remove the most extreme 1% prices,\n",
        "    # the most extreme .1% latitudes, &\n",
        "    # the most extreme .1% longitudes\n",
        "    df = df[(df['price'] >= np.percentile(df['price'], 0.5)) & \n",
        "            (df['price'] <= np.percentile(df['price'], 99.5)) & \n",
        "            (df['latitude'] >= np.percentile(df['latitude'], 0.05)) & \n",
        "            (df['latitude'] < np.percentile(df['latitude'], 99.95)) &\n",
        "            (df['longitude'] >= np.percentile(df['longitude'], 0.05)) & \n",
        "            (df['longitude'] <= np.percentile(df['longitude'], 99.95))]\n",
        "    \n",
        "    # Engineer features\n",
        "    df['desc_len']  =  df['description'].str.len()\n",
        "    df['dogs_cats'] = (df['dogs_allowed'] + df['cats_allowed'] == 2).astype(int)\n",
        "    df['total_rooms'] = df['bedrooms'] + df['bathrooms']\n",
        "    \n",
        "    \n",
        "    #Drop rows with Nan values.\n",
        "    df.dropna(inplace=True)\n",
        "    \n",
        "    return df.sort_index()\n",
        "\n",
        "filepath = DATA_PATH + 'apartments/renthop-nyc.csv'"
      ]
    },
    {
      "cell_type": "markdown",
      "metadata": {
        "id": "6ktYxpw0oTMZ"
      },
      "source": [
        "**Task 1:** Add the following functionality to the above `wrangle` function.\n",
        "\n",
        "- The `'created'` column will parsed as a `DateTime` object and set as the `index` of the DataFrame. \n",
        "- Rows with `NaN` values will be dropped.\n",
        "\n",
        "Then use your modified function to import the `renthop-nyc.csv` file into a DataFrame named `df`."
      ]
    },
    {
      "cell_type": "code",
      "execution_count": 67,
      "metadata": {
        "id": "sAY3n8qAoTMa"
      },
      "outputs": [],
      "source": [
        "df = wrangle(filepath)"
      ]
    },
    {
      "cell_type": "markdown",
      "metadata": {
        "id": "jl-Z7SdmoTMa"
      },
      "source": [
        "**Task 2:** Using your `pandas` and dataviz skills decide on two features that you want to engineer for your dataset. Next, modify your `wrangle` function to add those features. \n",
        "\n",
        "**Note:** You can learn more about feature engineering [here](https://en.wikipedia.org/wiki/Feature_engineering). Here are some ideas for new features:\n",
        "\n",
        "- Does the apartment have a description?\n",
        "- Length of description.\n",
        "- Total number of perks that apartment has.\n",
        "- Are cats _or_ dogs allowed?\n",
        "- Are cats _and_ dogs allowed?\n",
        "- Total number of rooms (beds + baths)."
      ]
    },
    {
      "cell_type": "code",
      "source": [
        "# df['desc_len']  =  df['description'].str.len().head()\n",
        "# df['dogs_cats'] = (df['dogs_allowed'] + df['cats_allowed'] == 2).astype(int)\n",
        "# df['total_rooms'] = df['bedrooms'] + df['bathrooms']"
      ],
      "metadata": {
        "id": "G15FoJvXHsLt"
      },
      "execution_count": 68,
      "outputs": []
    },
    {
      "cell_type": "code",
      "execution_count": 69,
      "metadata": {
        "id": "0ktGPbFpoTMa",
        "outputId": "434be7ff-6b61-4b93-aa28-c5247a9d6f7b",
        "colab": {
          "base_uri": "https://localhost:8080/",
          "height": 695
        }
      },
      "outputs": [
        {
          "output_type": "execute_result",
          "data": {
            "text/plain": [
              "                     bathrooms  bedrooms  \\\n",
              "created                                    \n",
              "2016-04-01 22:12:41        1.0         1   \n",
              "2016-04-01 22:56:00        1.0         0   \n",
              "2016-04-01 22:57:15        2.0         3   \n",
              "2016-04-01 23:26:07        1.0         1   \n",
              "2016-04-02 00:48:13        1.0         1   \n",
              "\n",
              "                                                           description  \\\n",
              "created                                                                  \n",
              "2016-04-01 22:12:41  X-LARGE Flex 1BR Loft! ~~ PRIME Greenwich Vill...   \n",
              "2016-04-01 22:56:00  This Enormous Studio Features: Harwood Floors,...   \n",
              "2016-04-01 22:57:15  --- East 31st St & Lexington Avenue --- This S...   \n",
              "2016-04-01 23:26:07  Reduced Fee!! Priced To Rent!\\rLarge Newly Upd...   \n",
              "2016-04-02 00:48:13  Phenomenal deal of the century!! This spacious...   \n",
              "\n",
              "                                     display_address  latitude  longitude  \\\n",
              "created                                                                     \n",
              "2016-04-01 22:12:41                      Astor Place   40.7302   -73.9924   \n",
              "2016-04-01 22:56:00                 East 54th Street   40.7576   -73.9677   \n",
              "2016-04-01 22:57:15  East 31st St & Lexington Avenue   40.7388   -73.9851   \n",
              "2016-04-01 23:26:07                     West End Ave   40.7939   -73.9738   \n",
              "2016-04-02 00:48:13                    E 88th street   40.7784   -73.9491   \n",
              "\n",
              "                     price        street_address interest_level  elevator  \\\n",
              "created                                                                     \n",
              "2016-04-01 22:12:41   3195         1 Astor Place           high         1   \n",
              "2016-04-01 22:56:00   2000  230 East 54th Street         medium         0   \n",
              "2016-04-01 22:57:15   5850  105 Lexington Avenue           high         1   \n",
              "2016-04-01 23:26:07   2745      700 West End Ave         medium         1   \n",
              "2016-04-02 00:48:13   2400     401 E 88th street         medium         1   \n",
              "\n",
              "                     ...  new_construction  terrace  exclusive  loft  \\\n",
              "created              ...                                               \n",
              "2016-04-01 22:12:41  ...                 0        0          0     0   \n",
              "2016-04-01 22:56:00  ...                 0        0          0     0   \n",
              "2016-04-01 22:57:15  ...                 0        0          0     0   \n",
              "2016-04-01 23:26:07  ...                 0        0          0     0   \n",
              "2016-04-02 00:48:13  ...                 0        0          0     0   \n",
              "\n",
              "                     garden_patio  wheelchair_access  common_outdoor_space  \\\n",
              "created                                                                      \n",
              "2016-04-01 22:12:41             0                  0                     0   \n",
              "2016-04-01 22:56:00             0                  0                     0   \n",
              "2016-04-01 22:57:15             0                  0                     1   \n",
              "2016-04-01 23:26:07             0                  0                     1   \n",
              "2016-04-02 00:48:13             0                  0                     0   \n",
              "\n",
              "                     desc_len  dogs_cats  total_rooms  \n",
              "created                                                \n",
              "2016-04-01 22:12:41      94.0          0          2.0  \n",
              "2016-04-01 22:56:00     357.0          1          1.0  \n",
              "2016-04-01 22:57:15     411.0          1          5.0  \n",
              "2016-04-01 23:26:07     816.0          1          2.0  \n",
              "2016-04-02 00:48:13     536.0          1          2.0  \n",
              "\n",
              "[5 rows x 36 columns]"
            ],
            "text/html": [
              "\n",
              "  <div id=\"df-afc66022-fb0b-44b8-be02-cc9a5ad84dba\">\n",
              "    <div class=\"colab-df-container\">\n",
              "      <div>\n",
              "<style scoped>\n",
              "    .dataframe tbody tr th:only-of-type {\n",
              "        vertical-align: middle;\n",
              "    }\n",
              "\n",
              "    .dataframe tbody tr th {\n",
              "        vertical-align: top;\n",
              "    }\n",
              "\n",
              "    .dataframe thead th {\n",
              "        text-align: right;\n",
              "    }\n",
              "</style>\n",
              "<table border=\"1\" class=\"dataframe\">\n",
              "  <thead>\n",
              "    <tr style=\"text-align: right;\">\n",
              "      <th></th>\n",
              "      <th>bathrooms</th>\n",
              "      <th>bedrooms</th>\n",
              "      <th>description</th>\n",
              "      <th>display_address</th>\n",
              "      <th>latitude</th>\n",
              "      <th>longitude</th>\n",
              "      <th>price</th>\n",
              "      <th>street_address</th>\n",
              "      <th>interest_level</th>\n",
              "      <th>elevator</th>\n",
              "      <th>...</th>\n",
              "      <th>new_construction</th>\n",
              "      <th>terrace</th>\n",
              "      <th>exclusive</th>\n",
              "      <th>loft</th>\n",
              "      <th>garden_patio</th>\n",
              "      <th>wheelchair_access</th>\n",
              "      <th>common_outdoor_space</th>\n",
              "      <th>desc_len</th>\n",
              "      <th>dogs_cats</th>\n",
              "      <th>total_rooms</th>\n",
              "    </tr>\n",
              "    <tr>\n",
              "      <th>created</th>\n",
              "      <th></th>\n",
              "      <th></th>\n",
              "      <th></th>\n",
              "      <th></th>\n",
              "      <th></th>\n",
              "      <th></th>\n",
              "      <th></th>\n",
              "      <th></th>\n",
              "      <th></th>\n",
              "      <th></th>\n",
              "      <th></th>\n",
              "      <th></th>\n",
              "      <th></th>\n",
              "      <th></th>\n",
              "      <th></th>\n",
              "      <th></th>\n",
              "      <th></th>\n",
              "      <th></th>\n",
              "      <th></th>\n",
              "      <th></th>\n",
              "      <th></th>\n",
              "    </tr>\n",
              "  </thead>\n",
              "  <tbody>\n",
              "    <tr>\n",
              "      <th>2016-04-01 22:12:41</th>\n",
              "      <td>1.0</td>\n",
              "      <td>1</td>\n",
              "      <td>X-LARGE Flex 1BR Loft! ~~ PRIME Greenwich Vill...</td>\n",
              "      <td>Astor Place</td>\n",
              "      <td>40.7302</td>\n",
              "      <td>-73.9924</td>\n",
              "      <td>3195</td>\n",
              "      <td>1 Astor Place</td>\n",
              "      <td>high</td>\n",
              "      <td>1</td>\n",
              "      <td>...</td>\n",
              "      <td>0</td>\n",
              "      <td>0</td>\n",
              "      <td>0</td>\n",
              "      <td>0</td>\n",
              "      <td>0</td>\n",
              "      <td>0</td>\n",
              "      <td>0</td>\n",
              "      <td>94.0</td>\n",
              "      <td>0</td>\n",
              "      <td>2.0</td>\n",
              "    </tr>\n",
              "    <tr>\n",
              "      <th>2016-04-01 22:56:00</th>\n",
              "      <td>1.0</td>\n",
              "      <td>0</td>\n",
              "      <td>This Enormous Studio Features: Harwood Floors,...</td>\n",
              "      <td>East 54th Street</td>\n",
              "      <td>40.7576</td>\n",
              "      <td>-73.9677</td>\n",
              "      <td>2000</td>\n",
              "      <td>230 East 54th Street</td>\n",
              "      <td>medium</td>\n",
              "      <td>0</td>\n",
              "      <td>...</td>\n",
              "      <td>0</td>\n",
              "      <td>0</td>\n",
              "      <td>0</td>\n",
              "      <td>0</td>\n",
              "      <td>0</td>\n",
              "      <td>0</td>\n",
              "      <td>0</td>\n",
              "      <td>357.0</td>\n",
              "      <td>1</td>\n",
              "      <td>1.0</td>\n",
              "    </tr>\n",
              "    <tr>\n",
              "      <th>2016-04-01 22:57:15</th>\n",
              "      <td>2.0</td>\n",
              "      <td>3</td>\n",
              "      <td>--- East 31st St &amp; Lexington Avenue --- This S...</td>\n",
              "      <td>East 31st St &amp; Lexington Avenue</td>\n",
              "      <td>40.7388</td>\n",
              "      <td>-73.9851</td>\n",
              "      <td>5850</td>\n",
              "      <td>105 Lexington Avenue</td>\n",
              "      <td>high</td>\n",
              "      <td>1</td>\n",
              "      <td>...</td>\n",
              "      <td>0</td>\n",
              "      <td>0</td>\n",
              "      <td>0</td>\n",
              "      <td>0</td>\n",
              "      <td>0</td>\n",
              "      <td>0</td>\n",
              "      <td>1</td>\n",
              "      <td>411.0</td>\n",
              "      <td>1</td>\n",
              "      <td>5.0</td>\n",
              "    </tr>\n",
              "    <tr>\n",
              "      <th>2016-04-01 23:26:07</th>\n",
              "      <td>1.0</td>\n",
              "      <td>1</td>\n",
              "      <td>Reduced Fee!! Priced To Rent!\\rLarge Newly Upd...</td>\n",
              "      <td>West End Ave</td>\n",
              "      <td>40.7939</td>\n",
              "      <td>-73.9738</td>\n",
              "      <td>2745</td>\n",
              "      <td>700 West End Ave</td>\n",
              "      <td>medium</td>\n",
              "      <td>1</td>\n",
              "      <td>...</td>\n",
              "      <td>0</td>\n",
              "      <td>0</td>\n",
              "      <td>0</td>\n",
              "      <td>0</td>\n",
              "      <td>0</td>\n",
              "      <td>0</td>\n",
              "      <td>1</td>\n",
              "      <td>816.0</td>\n",
              "      <td>1</td>\n",
              "      <td>2.0</td>\n",
              "    </tr>\n",
              "    <tr>\n",
              "      <th>2016-04-02 00:48:13</th>\n",
              "      <td>1.0</td>\n",
              "      <td>1</td>\n",
              "      <td>Phenomenal deal of the century!! This spacious...</td>\n",
              "      <td>E 88th street</td>\n",
              "      <td>40.7784</td>\n",
              "      <td>-73.9491</td>\n",
              "      <td>2400</td>\n",
              "      <td>401 E 88th street</td>\n",
              "      <td>medium</td>\n",
              "      <td>1</td>\n",
              "      <td>...</td>\n",
              "      <td>0</td>\n",
              "      <td>0</td>\n",
              "      <td>0</td>\n",
              "      <td>0</td>\n",
              "      <td>0</td>\n",
              "      <td>0</td>\n",
              "      <td>0</td>\n",
              "      <td>536.0</td>\n",
              "      <td>1</td>\n",
              "      <td>2.0</td>\n",
              "    </tr>\n",
              "  </tbody>\n",
              "</table>\n",
              "<p>5 rows × 36 columns</p>\n",
              "</div>\n",
              "      <button class=\"colab-df-convert\" onclick=\"convertToInteractive('df-afc66022-fb0b-44b8-be02-cc9a5ad84dba')\"\n",
              "              title=\"Convert this dataframe to an interactive table.\"\n",
              "              style=\"display:none;\">\n",
              "        \n",
              "  <svg xmlns=\"http://www.w3.org/2000/svg\" height=\"24px\"viewBox=\"0 0 24 24\"\n",
              "       width=\"24px\">\n",
              "    <path d=\"M0 0h24v24H0V0z\" fill=\"none\"/>\n",
              "    <path d=\"M18.56 5.44l.94 2.06.94-2.06 2.06-.94-2.06-.94-.94-2.06-.94 2.06-2.06.94zm-11 1L8.5 8.5l.94-2.06 2.06-.94-2.06-.94L8.5 2.5l-.94 2.06-2.06.94zm10 10l.94 2.06.94-2.06 2.06-.94-2.06-.94-.94-2.06-.94 2.06-2.06.94z\"/><path d=\"M17.41 7.96l-1.37-1.37c-.4-.4-.92-.59-1.43-.59-.52 0-1.04.2-1.43.59L10.3 9.45l-7.72 7.72c-.78.78-.78 2.05 0 2.83L4 21.41c.39.39.9.59 1.41.59.51 0 1.02-.2 1.41-.59l7.78-7.78 2.81-2.81c.8-.78.8-2.07 0-2.86zM5.41 20L4 18.59l7.72-7.72 1.47 1.35L5.41 20z\"/>\n",
              "  </svg>\n",
              "      </button>\n",
              "      \n",
              "  <style>\n",
              "    .colab-df-container {\n",
              "      display:flex;\n",
              "      flex-wrap:wrap;\n",
              "      gap: 12px;\n",
              "    }\n",
              "\n",
              "    .colab-df-convert {\n",
              "      background-color: #E8F0FE;\n",
              "      border: none;\n",
              "      border-radius: 50%;\n",
              "      cursor: pointer;\n",
              "      display: none;\n",
              "      fill: #1967D2;\n",
              "      height: 32px;\n",
              "      padding: 0 0 0 0;\n",
              "      width: 32px;\n",
              "    }\n",
              "\n",
              "    .colab-df-convert:hover {\n",
              "      background-color: #E2EBFA;\n",
              "      box-shadow: 0px 1px 2px rgba(60, 64, 67, 0.3), 0px 1px 3px 1px rgba(60, 64, 67, 0.15);\n",
              "      fill: #174EA6;\n",
              "    }\n",
              "\n",
              "    [theme=dark] .colab-df-convert {\n",
              "      background-color: #3B4455;\n",
              "      fill: #D2E3FC;\n",
              "    }\n",
              "\n",
              "    [theme=dark] .colab-df-convert:hover {\n",
              "      background-color: #434B5C;\n",
              "      box-shadow: 0px 1px 3px 1px rgba(0, 0, 0, 0.15);\n",
              "      filter: drop-shadow(0px 1px 2px rgba(0, 0, 0, 0.3));\n",
              "      fill: #FFFFFF;\n",
              "    }\n",
              "  </style>\n",
              "\n",
              "      <script>\n",
              "        const buttonEl =\n",
              "          document.querySelector('#df-afc66022-fb0b-44b8-be02-cc9a5ad84dba button.colab-df-convert');\n",
              "        buttonEl.style.display =\n",
              "          google.colab.kernel.accessAllowed ? 'block' : 'none';\n",
              "\n",
              "        async function convertToInteractive(key) {\n",
              "          const element = document.querySelector('#df-afc66022-fb0b-44b8-be02-cc9a5ad84dba');\n",
              "          const dataTable =\n",
              "            await google.colab.kernel.invokeFunction('convertToInteractive',\n",
              "                                                     [key], {});\n",
              "          if (!dataTable) return;\n",
              "\n",
              "          const docLinkHtml = 'Like what you see? Visit the ' +\n",
              "            '<a target=\"_blank\" href=https://colab.research.google.com/notebooks/data_table.ipynb>data table notebook</a>'\n",
              "            + ' to learn more about interactive tables.';\n",
              "          element.innerHTML = '';\n",
              "          dataTable['output_type'] = 'display_data';\n",
              "          await google.colab.output.renderOutput(dataTable, element);\n",
              "          const docLink = document.createElement('div');\n",
              "          docLink.innerHTML = docLinkHtml;\n",
              "          element.appendChild(docLink);\n",
              "        }\n",
              "      </script>\n",
              "    </div>\n",
              "  </div>\n",
              "  "
            ]
          },
          "metadata": {},
          "execution_count": 69
        }
      ],
      "source": [
        "# Conduct your exploratory data analysis here, \n",
        "# and then modify the function above.\n",
        "df.head()"
      ]
    },
    {
      "cell_type": "code",
      "source": [],
      "metadata": {
        "id": "Ubm8ijO22Dzu"
      },
      "execution_count": 69,
      "outputs": []
    },
    {
      "cell_type": "markdown",
      "metadata": {
        "id": "sGFEZUkWoTMa"
      },
      "source": [
        "# II. Split Data\n",
        "\n",
        "**Task 3:** Split your DataFrame `df` into a feature matrix `X` and the target vector `y`. You want to predict `'price'`.\n",
        "\n",
        "**Note:** In contrast to the last module project, this time you should include _all_ the numerical features in your dataset."
      ]
    },
    {
      "cell_type": "code",
      "execution_count": 70,
      "metadata": {
        "id": "GwnNPRZNoTMb"
      },
      "outputs": [],
      "source": [
        "target = \"price\"\n",
        "\n",
        "X = df.select_dtypes('number').drop(columns = target)\n",
        "y = df[target]"
      ]
    },
    {
      "cell_type": "code",
      "source": [
        "X.shape"
      ],
      "metadata": {
        "id": "lbyn7XlgmanM",
        "outputId": "1c4f77cb-fb59-4f9e-9584-b1ace68b5e4e",
        "colab": {
          "base_uri": "https://localhost:8080/"
        }
      },
      "execution_count": 71,
      "outputs": [
        {
          "output_type": "execute_result",
          "data": {
            "text/plain": [
              "(47260, 31)"
            ]
          },
          "metadata": {},
          "execution_count": 71
        }
      ]
    },
    {
      "cell_type": "markdown",
      "metadata": {
        "id": "_wC7H0AhoTMb"
      },
      "source": [
        "**Task 4:** Split `X` and `y` into a training set (`X_train`, `y_train`) and a test set (`X_test`, `y_test`).\n",
        "\n",
        "- Your training set should include data from April and May 2016. \n",
        "- Your test set should include data from June 2016."
      ]
    },
    {
      "cell_type": "code",
      "execution_count": 72,
      "metadata": {
        "id": "Lv-C9E7GoTMb"
      },
      "outputs": [],
      "source": [
        "cutoff = '2016-06-01'\n",
        "mask = X.index < cutoff\n",
        "X_train, y_train = X.loc[mask], y.loc[mask]\n",
        "X_test, y_test = X.loc[~mask], y.loc[~mask]"
      ]
    },
    {
      "cell_type": "code",
      "source": [
        "assert len(X_test) + len(X_train) == len(X)"
      ],
      "metadata": {
        "id": "eVeDGf2Xptox"
      },
      "execution_count": 73,
      "outputs": []
    },
    {
      "cell_type": "markdown",
      "metadata": {
        "id": "8xszEVg9oTMb"
      },
      "source": [
        "# III. Establish Baseline"
      ]
    },
    {
      "cell_type": "markdown",
      "metadata": {
        "id": "lq3GpAFIoTMb"
      },
      "source": [
        "**Task 5:** Since this is a **regression** problem, you need to calculate the baseline mean absolute error for your model. First, calculate the mean of `y_train`. Next, create a list `y_pred` that has the same length as `y_train` and where every item in the list is the mean. Finally, use `mean_absolute_error` to calculate your baseline."
      ]
    },
    {
      "cell_type": "code",
      "execution_count": 74,
      "metadata": {
        "id": "SVWzH51voTMb",
        "outputId": "ba6dba7d-d355-44db-f544-2eef45775a02",
        "colab": {
          "base_uri": "https://localhost:8080/"
        }
      },
      "outputs": [
        {
          "output_type": "stream",
          "name": "stdout",
          "text": [
            "Baseline MAE: 1202.3983007818476\n"
          ]
        }
      ],
      "source": [
        "y_train_pred  = [y_train.mean()] * len(y_train)\n",
        "baseline_mae = mean_absolute_error(y_train, y_train_pred)\n",
        "print('Baseline MAE:', baseline_mae)"
      ]
    },
    {
      "cell_type": "markdown",
      "metadata": {
        "id": "ScsxQMLJoTMc"
      },
      "source": [
        "# IV. Build Model\n",
        "\n",
        "**Task 6:** Build and train a `LinearRegression` model named `model` using your feature matrix `X_train` and your target vector `y_train`."
      ]
    },
    {
      "cell_type": "code",
      "execution_count": 75,
      "metadata": {
        "id": "e9VVxx-YoTMc",
        "outputId": "985f25b5-8c12-4efd-edba-c54de7d8d75e",
        "colab": {
          "base_uri": "https://localhost:8080/"
        }
      },
      "outputs": [
        {
          "output_type": "execute_result",
          "data": {
            "text/plain": [
              "LinearRegression()"
            ]
          },
          "metadata": {},
          "execution_count": 75
        }
      ],
      "source": [
        "# Step 1: Import predictor class\n",
        "\n",
        "\n",
        "# Step 2: Instantiate predictor\n",
        "model = LinearRegression()\n",
        "\n",
        "# Step 3: Fit predictor on the (training) data\n",
        "model.fit(X_train,y_train)"
      ]
    },
    {
      "cell_type": "markdown",
      "metadata": {
        "id": "bTeC6vHhoTMc"
      },
      "source": [
        "# V. Check Metrics\n",
        "\n",
        "**Task 7:** Calculate the training and test mean absolute error for your model."
      ]
    },
    {
      "cell_type": "code",
      "execution_count": 76,
      "metadata": {
        "id": "ucNth8FsoTMc",
        "outputId": "452083ba-25ea-4b44-f16f-5f336dc65d32",
        "colab": {
          "base_uri": "https://localhost:8080/"
        }
      },
      "outputs": [
        {
          "output_type": "stream",
          "name": "stdout",
          "text": [
            "Training MAE: 692.5825870871353\n",
            "Test MAE: 701.1773006806743\n"
          ]
        }
      ],
      "source": [
        "#y_train_pred  = [y_train.mean()] * len(y_train)\n",
        "training_mae = mean_absolute_error(y_train, model.predict(X_train))\n",
        "\n",
        "#y_test_pred  = [y_test.mean()] * len(y_test)\n",
        "test_mae = mean_absolute_error(y_test, model.predict(X_test))\n",
        "\n",
        "print('Training MAE:', training_mae)\n",
        "print('Test MAE:', test_mae)"
      ]
    },
    {
      "cell_type": "markdown",
      "metadata": {
        "id": "A2WpNtGioTMc"
      },
      "source": [
        "**Task 8:** Calculate the training and test $R^2$ score for your model."
      ]
    },
    {
      "cell_type": "code",
      "execution_count": 80,
      "metadata": {
        "id": "1FAAG99moTMc",
        "outputId": "f3fe0ecc-1158-4472-90a2-bf9265f1c691",
        "colab": {
          "base_uri": "https://localhost:8080/"
        }
      },
      "outputs": [
        {
          "output_type": "stream",
          "name": "stdout",
          "text": [
            "Training MAE: 0.6164320027205014\n",
            "Test MAE: 0.6261548870791147\n"
          ]
        }
      ],
      "source": [
        "\n",
        "training_r2 = model.score(X_train, y_train)\n",
        "test_r2 = model.score(X_test, y_test)\n",
        "\n",
        "print('Training MAE:', training_r2)\n",
        "print('Test MAE:', test_r2)"
      ]
    },
    {
      "cell_type": "markdown",
      "metadata": {
        "id": "DiE9W5KooTMc"
      },
      "source": [
        "# VI. Communicate Results\n",
        "\n",
        "**Stretch Goal:** What are the three most influential coefficients in your linear model? You should consider the _absolute value_ of each coefficient, so that it doesn't matter if it's positive or negative."
      ]
    },
    {
      "cell_type": "code",
      "execution_count": 85,
      "metadata": {
        "id": "5il_MxFQoTMc"
      },
      "outputs": [],
      "source": [
        "coefficients = model.coef_\n",
        "features = X_train.columns"
      ]
    },
    {
      "cell_type": "code",
      "source": [
        "pd.Series(coefficients, index=features).sort_values(key=abs).tail(3)"
      ],
      "metadata": {
        "id": "aVwq0naCDcrb",
        "outputId": "1df860ac-37aa-4840-e046-a8eb076c8ac4",
        "colab": {
          "base_uri": "https://localhost:8080/"
        }
      },
      "execution_count": 88,
      "outputs": [
        {
          "output_type": "execute_result",
          "data": {
            "text/plain": [
              "bathrooms     1016.088304\n",
              "latitude      1627.683419\n",
              "longitude   -13591.234455\n",
              "dtype: float64"
            ]
          },
          "metadata": {},
          "execution_count": 88
        }
      ]
    },
    {
      "cell_type": "code",
      "source": [
        "plt.scatter(X_train['longitude'], X_train['latitude']);"
      ],
      "metadata": {
        "id": "t_4W3s5OEFEk",
        "outputId": "506ccc34-8b90-4158-fdb1-2e4878075d50",
        "colab": {
          "base_uri": "https://localhost:8080/",
          "height": 265
        }
      },
      "execution_count": 91,
      "outputs": [
        {
          "output_type": "display_data",
          "data": {
            "text/plain": [
              "<Figure size 432x288 with 1 Axes>"
            ],
            "image/png": "[encoded data removed]"
          },
          "metadata": {
            "needs_background": "light"
          }
        }
      ]
    }
  ],
  "metadata": {
    "colab": {
      "name": "LS_DS_212_solution.ipynb",
      "provenance": []
    },
    "kernelspec": {
      "display_name": "Python 3",
      "language": "python",
      "name": "python3"
    },
    "language_info": {
      "codemirror_mode": {
        "name": "ipython",
        "version": 3
      },
      "file_extension": ".py",
      "mimetype": "text/x-python",
      "name": "python",
      "nbconvert_exporter": "python",
      "pygments_lexer": "ipython3",
      "version": "3.8.5"
    }
  },
  "nbformat": 4,
  "nbformat_minor": 0
}