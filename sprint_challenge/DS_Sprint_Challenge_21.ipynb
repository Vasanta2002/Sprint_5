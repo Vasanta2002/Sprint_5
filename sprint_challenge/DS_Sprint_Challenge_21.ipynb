{
  "cells": [
    {
      "cell_type": "markdown",
      "metadata": {
        "deletable": false,
        "editable": false,
        "id": "VZf2akBaMjq8",
        "nbgrader": {
          "cell_type": "markdown",
          "checksum": "2e5ac741411858b14b5651883f5f6fcd",
          "grade": false,
          "grade_id": "cell-39039e97c5ca497a",
          "locked": true,
          "schema_version": 3,
          "solution": false,
          "task": false
        }
      },
      "source": [
        "BloomTech Data Science\n",
        "\n",
        "*Unit 2, Sprint 1*\n",
        "\n",
        "---\n",
        "\n",
        "👇 **Do not change the code in this cell.** If you're working in Google Colab, you can run this cell to install `category_encoders`."
      ]
    },
    {
      "cell_type": "code",
      "execution_count": 41,
      "metadata": {
        "deletable": false,
        "editable": false,
        "nbgrader": {
          "cell_type": "code",
          "checksum": "53464cc768e269c070c42bd152223bbc",
          "grade": false,
          "grade_id": "cell-99b74e54a46dec38",
          "locked": true,
          "schema_version": 3,
          "solution": false,
          "task": false
        },
        "id": "CnJSVHrfEDkm"
      },
      "outputs": [],
      "source": [
        "%%capture\n",
        "# If you're in Colab...\n",
        "import sys\n",
        "if 'google.colab' in sys.modules:\n",
        "    !pip install category_encoders==2.*"
      ]
    },
    {
      "cell_type": "markdown",
      "metadata": {
        "deletable": false,
        "editable": false,
        "nbgrader": {
          "cell_type": "markdown",
          "checksum": "8ffcbfcc12357213a3be26710877c891",
          "grade": false,
          "grade_id": "cell-6c3b25a3a9ca2f0a",
          "locked": true,
          "schema_version": 3,
          "solution": false,
          "task": false
        },
        "id": "8lOKn1WbEDkn"
      },
      "source": [
        " \n",
        "# Sprint Challenge: Predicting Home Prices in Iowa 🏠\n",
        "\n",
        "The goal of this assignment is to build a regression model that can predict the sale price of a house in Aimes, Iowa.\n",
        "\n",
        "# Directions \n",
        "\n",
        "This notebook contains 12 tasks, which cover the material we've learned in this sprint. Here's a summary:\n",
        "\n",
        "- **Task 1:** Import training data.\n",
        "- **Task 2 (`stretch goal`):** Create scatter plot.\n",
        "- **Task 3:** Split data into feature matrix and target vector.\n",
        "- **Task 4:** Split data into training and validation sets.\n",
        "- **Task 5:** Establish baseline mean absolute error.\n",
        "- **Task 6:** Build and train linear regression model.\n",
        "- **Task 7:** Build and train ridge regression model.\n",
        "- **Task 8:** Calculate mean absolute error for training and validation sets.\n",
        "- **Task 9:** Calculate $R^2$ for validation set.\n",
        "- **Task 10:** Make predictions based on test set.\n",
        "- **Task 11 (`stretch goal`):** Get below 18,000 for test set MAE. \n",
        "- **Task 12 (`stretch goal`):** Plot model coefficients.\n",
        "\n",
        "For each task you should do the following:\n",
        "\n",
        "- Read the task instructions.\n",
        "- Write your code in the cell below the task. Delete the `raise NotImplementedError` before your start.\n",
        "- Run the testing cell below the task. If you get an error, read the error message and re-evaluate your code.\n",
        "\n",
        "**You should limit your code to the following libraries:**\n",
        "\n",
        "- `category_encoders`\n",
        "- `numpy`\n",
        "- `matplotlib`\n",
        "- `pandas`\n",
        "- `sklearn` \n",
        "\n",
        "# Tasks\n",
        "\n",
        "## I. Wrangle Data\n",
        "\n",
        "**Task 1:** Since real estate prices fluctuate over time, it's important to index the houses in this dataset using the year in which they were sold. First, load the dataset into a DataFrame named `df` and find the column that states the year sold. Next, modify the code below so that `Yr_Sold` column is parsed as a datetime object and set as the index."
      ]
    },
    {
      "cell_type": "code",
      "source": [
        "import numpy as np\n",
        "import matplotlib.pyplot as plt\n",
        "from category_encoders import OneHotEncoder\n",
        "from sklearn.impute import SimpleImputer\n",
        "from sklearn.linear_model import LogisticRegression\n",
        "from sklearn.model_selection import train_test_split\n",
        "from sklearn.pipeline import make_pipeline\n",
        "from sklearn.preprocessing import StandardScaler"
      ],
      "metadata": {
        "id": "3pXyBZVUPE5A"
      },
      "execution_count": 42,
      "outputs": []
    },
    {
      "cell_type": "code",
      "execution_count": 43,
      "metadata": {
        "deletable": false,
        "id": "7ptoRG1lu7H4",
        "nbgrader": {
          "cell_type": "code",
          "checksum": "971bae389cac7fcc8b6b743b55faaa50",
          "grade": false,
          "grade_id": "cell-f40876cb08c183d1",
          "locked": false,
          "schema_version": 3,
          "solution": true,
          "task": false
        }
      },
      "outputs": [],
      "source": [
        "'''T1: Import data into DataFrame `df`.'''\n",
        "import pandas as pd\n",
        "\n",
        "url_train = 'https://drive.google.com/uc?export=download&id=1tmYLQ1RwIgjI_d66PWnlXU-5D_VxtiQc'\n",
        "df = pd.read_csv(url_train, parse_dates=['Yr_Sold'],\n",
        "                 index_col='Yr_Sold')\n",
        "# YOUR CODE HERE\n"
      ]
    },
    {
      "cell_type": "code",
      "source": [
        "df.head()"
      ],
      "metadata": {
        "id": "Uqz66GeKO6-k",
        "outputId": "6d59ebad-3cd6-4821-810f-63b4b638384c",
        "colab": {
          "base_uri": "https://localhost:8080/",
          "height": 418
        }
      },
      "execution_count": 44,
      "outputs": [
        {
          "output_type": "execute_result",
          "data": {
            "text/plain": [
              "            1st_Flr_SF  Bedroom_AbvGr Bldg_Type  Bsmt_Full_Bath  \\\n",
              "Yr_Sold                                                           \n",
              "2009-01-01         882              2      1Fam             0.0   \n",
              "2009-01-01        1434              4      1Fam             1.0   \n",
              "2009-01-01        2000              4      1Fam             1.0   \n",
              "2009-01-01         945              3      1Fam             0.0   \n",
              "2009-01-01        1008              4      1Fam             0.0   \n",
              "\n",
              "            Bsmt_Half_Bath Central_Air Condition_1 Condition_2 Electrical  \\\n",
              "Yr_Sold                                                                     \n",
              "2009-01-01             0.0           Y        Norm        Norm      SBrkr   \n",
              "2009-01-01             0.0           Y        Norm        Norm      SBrkr   \n",
              "2009-01-01             0.0           Y        Norm        Norm      SBrkr   \n",
              "2009-01-01             0.0           Y        Norm        Norm      SBrkr   \n",
              "2009-01-01             0.0           Y        Norm        Norm      SBrkr   \n",
              "\n",
              "           Exter_Cond  ... Roof_Matl Roof_Style SalePrice Sale_Condition  \\\n",
              "Yr_Sold                ...                                                 \n",
              "2009-01-01         TA  ...   CompShg      Gable    124500         Normal   \n",
              "2009-01-01         TA  ...   CompShg        Hip    157000         Normal   \n",
              "2009-01-01         TA  ...   CompShg      Gable    345000         Normal   \n",
              "2009-01-01         TA  ...   CompShg      Gable    189500         Normal   \n",
              "2009-01-01         TA  ...   CompShg      Gable    270000         Normal   \n",
              "\n",
              "            Sale_Type Street  TotRms_AbvGrd  Utilities Year_Built  \\\n",
              "Yr_Sold                                                             \n",
              "2009-01-01        WD    Pave              5     AllPub       1956   \n",
              "2009-01-01        WD    Pave              7     AllPub       1974   \n",
              "2009-01-01        WD    Pave              9     AllPub       1972   \n",
              "2009-01-01        WD    Pave              7     AllPub       1997   \n",
              "2009-01-01        WD    Pave              9     AllPub       2003   \n",
              "\n",
              "           Year_Remod/Add  \n",
              "Yr_Sold                    \n",
              "2009-01-01           1956  \n",
              "2009-01-01           1974  \n",
              "2009-01-01           1995  \n",
              "2009-01-01           1997  \n",
              "2009-01-01           2003  \n",
              "\n",
              "[5 rows x 46 columns]"
            ],
            "text/html": [
              "\n",
              "  <div id=\"df-3c946280-0dae-4a13-ae6c-69b09bee0003\">\n",
              "    <div class=\"colab-df-container\">\n",
              "      <div>\n",
              "<style scoped>\n",
              "    .dataframe tbody tr th:only-of-type {\n",
              "        vertical-align: middle;\n",
              "    }\n",
              "\n",
              "    .dataframe tbody tr th {\n",
              "        vertical-align: top;\n",
              "    }\n",
              "\n",
              "    .dataframe thead th {\n",
              "        text-align: right;\n",
              "    }\n",
              "</style>\n",
              "<table border=\"1\" class=\"dataframe\">\n",
              "  <thead>\n",
              "    <tr style=\"text-align: right;\">\n",
              "      <th></th>\n",
              "      <th>1st_Flr_SF</th>\n",
              "      <th>Bedroom_AbvGr</th>\n",
              "      <th>Bldg_Type</th>\n",
              "      <th>Bsmt_Full_Bath</th>\n",
              "      <th>Bsmt_Half_Bath</th>\n",
              "      <th>Central_Air</th>\n",
              "      <th>Condition_1</th>\n",
              "      <th>Condition_2</th>\n",
              "      <th>Electrical</th>\n",
              "      <th>Exter_Cond</th>\n",
              "      <th>...</th>\n",
              "      <th>Roof_Matl</th>\n",
              "      <th>Roof_Style</th>\n",
              "      <th>SalePrice</th>\n",
              "      <th>Sale_Condition</th>\n",
              "      <th>Sale_Type</th>\n",
              "      <th>Street</th>\n",
              "      <th>TotRms_AbvGrd</th>\n",
              "      <th>Utilities</th>\n",
              "      <th>Year_Built</th>\n",
              "      <th>Year_Remod/Add</th>\n",
              "    </tr>\n",
              "    <tr>\n",
              "      <th>Yr_Sold</th>\n",
              "      <th></th>\n",
              "      <th></th>\n",
              "      <th></th>\n",
              "      <th></th>\n",
              "      <th></th>\n",
              "      <th></th>\n",
              "      <th></th>\n",
              "      <th></th>\n",
              "      <th></th>\n",
              "      <th></th>\n",
              "      <th></th>\n",
              "      <th></th>\n",
              "      <th></th>\n",
              "      <th></th>\n",
              "      <th></th>\n",
              "      <th></th>\n",
              "      <th></th>\n",
              "      <th></th>\n",
              "      <th></th>\n",
              "      <th></th>\n",
              "      <th></th>\n",
              "    </tr>\n",
              "  </thead>\n",
              "  <tbody>\n",
              "    <tr>\n",
              "      <th>2009-01-01</th>\n",
              "      <td>882</td>\n",
              "      <td>2</td>\n",
              "      <td>1Fam</td>\n",
              "      <td>0.0</td>\n",
              "      <td>0.0</td>\n",
              "      <td>Y</td>\n",
              "      <td>Norm</td>\n",
              "      <td>Norm</td>\n",
              "      <td>SBrkr</td>\n",
              "      <td>TA</td>\n",
              "      <td>...</td>\n",
              "      <td>CompShg</td>\n",
              "      <td>Gable</td>\n",
              "      <td>124500</td>\n",
              "      <td>Normal</td>\n",
              "      <td>WD</td>\n",
              "      <td>Pave</td>\n",
              "      <td>5</td>\n",
              "      <td>AllPub</td>\n",
              "      <td>1956</td>\n",
              "      <td>1956</td>\n",
              "    </tr>\n",
              "    <tr>\n",
              "      <th>2009-01-01</th>\n",
              "      <td>1434</td>\n",
              "      <td>4</td>\n",
              "      <td>1Fam</td>\n",
              "      <td>1.0</td>\n",
              "      <td>0.0</td>\n",
              "      <td>Y</td>\n",
              "      <td>Norm</td>\n",
              "      <td>Norm</td>\n",
              "      <td>SBrkr</td>\n",
              "      <td>TA</td>\n",
              "      <td>...</td>\n",
              "      <td>CompShg</td>\n",
              "      <td>Hip</td>\n",
              "      <td>157000</td>\n",
              "      <td>Normal</td>\n",
              "      <td>WD</td>\n",
              "      <td>Pave</td>\n",
              "      <td>7</td>\n",
              "      <td>AllPub</td>\n",
              "      <td>1974</td>\n",
              "      <td>1974</td>\n",
              "    </tr>\n",
              "    <tr>\n",
              "      <th>2009-01-01</th>\n",
              "      <td>2000</td>\n",
              "      <td>4</td>\n",
              "      <td>1Fam</td>\n",
              "      <td>1.0</td>\n",
              "      <td>0.0</td>\n",
              "      <td>Y</td>\n",
              "      <td>Norm</td>\n",
              "      <td>Norm</td>\n",
              "      <td>SBrkr</td>\n",
              "      <td>TA</td>\n",
              "      <td>...</td>\n",
              "      <td>CompShg</td>\n",
              "      <td>Gable</td>\n",
              "      <td>345000</td>\n",
              "      <td>Normal</td>\n",
              "      <td>WD</td>\n",
              "      <td>Pave</td>\n",
              "      <td>9</td>\n",
              "      <td>AllPub</td>\n",
              "      <td>1972</td>\n",
              "      <td>1995</td>\n",
              "    </tr>\n",
              "    <tr>\n",
              "      <th>2009-01-01</th>\n",
              "      <td>945</td>\n",
              "      <td>3</td>\n",
              "      <td>1Fam</td>\n",
              "      <td>0.0</td>\n",
              "      <td>0.0</td>\n",
              "      <td>Y</td>\n",
              "      <td>Norm</td>\n",
              "      <td>Norm</td>\n",
              "      <td>SBrkr</td>\n",
              "      <td>TA</td>\n",
              "      <td>...</td>\n",
              "      <td>CompShg</td>\n",
              "      <td>Gable</td>\n",
              "      <td>189500</td>\n",
              "      <td>Normal</td>\n",
              "      <td>WD</td>\n",
              "      <td>Pave</td>\n",
              "      <td>7</td>\n",
              "      <td>AllPub</td>\n",
              "      <td>1997</td>\n",
              "      <td>1997</td>\n",
              "    </tr>\n",
              "    <tr>\n",
              "      <th>2009-01-01</th>\n",
              "      <td>1008</td>\n",
              "      <td>4</td>\n",
              "      <td>1Fam</td>\n",
              "      <td>0.0</td>\n",
              "      <td>0.0</td>\n",
              "      <td>Y</td>\n",
              "      <td>Norm</td>\n",
              "      <td>Norm</td>\n",
              "      <td>SBrkr</td>\n",
              "      <td>TA</td>\n",
              "      <td>...</td>\n",
              "      <td>CompShg</td>\n",
              "      <td>Gable</td>\n",
              "      <td>270000</td>\n",
              "      <td>Normal</td>\n",
              "      <td>WD</td>\n",
              "      <td>Pave</td>\n",
              "      <td>9</td>\n",
              "      <td>AllPub</td>\n",
              "      <td>2003</td>\n",
              "      <td>2003</td>\n",
              "    </tr>\n",
              "  </tbody>\n",
              "</table>\n",
              "<p>5 rows × 46 columns</p>\n",
              "</div>\n",
              "      <button class=\"colab-df-convert\" onclick=\"convertToInteractive('df-3c946280-0dae-4a13-ae6c-69b09bee0003')\"\n",
              "              title=\"Convert this dataframe to an interactive table.\"\n",
              "              style=\"display:none;\">\n",
              "        \n",
              "  <svg xmlns=\"http://www.w3.org/2000/svg\" height=\"24px\"viewBox=\"0 0 24 24\"\n",
              "       width=\"24px\">\n",
              "    <path d=\"M0 0h24v24H0V0z\" fill=\"none\"/>\n",
              "    <path d=\"M18.56 5.44l.94 2.06.94-2.06 2.06-.94-2.06-.94-.94-2.06-.94 2.06-2.06.94zm-11 1L8.5 8.5l.94-2.06 2.06-.94-2.06-.94L8.5 2.5l-.94 2.06-2.06.94zm10 10l.94 2.06.94-2.06 2.06-.94-2.06-.94-.94-2.06-.94 2.06-2.06.94z\"/><path d=\"M17.41 7.96l-1.37-1.37c-.4-.4-.92-.59-1.43-.59-.52 0-1.04.2-1.43.59L10.3 9.45l-7.72 7.72c-.78.78-.78 2.05 0 2.83L4 21.41c.39.39.9.59 1.41.59.51 0 1.02-.2 1.41-.59l7.78-7.78 2.81-2.81c.8-.78.8-2.07 0-2.86zM5.41 20L4 18.59l7.72-7.72 1.47 1.35L5.41 20z\"/>\n",
              "  </svg>\n",
              "      </button>\n",
              "      \n",
              "  <style>\n",
              "    .colab-df-container {\n",
              "      display:flex;\n",
              "      flex-wrap:wrap;\n",
              "      gap: 12px;\n",
              "    }\n",
              "\n",
              "    .colab-df-convert {\n",
              "      background-color: #E8F0FE;\n",
              "      border: none;\n",
              "      border-radius: 50%;\n",
              "      cursor: pointer;\n",
              "      display: none;\n",
              "      fill: #1967D2;\n",
              "      height: 32px;\n",
              "      padding: 0 0 0 0;\n",
              "      width: 32px;\n",
              "    }\n",
              "\n",
              "    .colab-df-convert:hover {\n",
              "      background-color: #E2EBFA;\n",
              "      box-shadow: 0px 1px 2px rgba(60, 64, 67, 0.3), 0px 1px 3px 1px rgba(60, 64, 67, 0.15);\n",
              "      fill: #174EA6;\n",
              "    }\n",
              "\n",
              "    [theme=dark] .colab-df-convert {\n",
              "      background-color: #3B4455;\n",
              "      fill: #D2E3FC;\n",
              "    }\n",
              "\n",
              "    [theme=dark] .colab-df-convert:hover {\n",
              "      background-color: #434B5C;\n",
              "      box-shadow: 0px 1px 3px 1px rgba(0, 0, 0, 0.15);\n",
              "      filter: drop-shadow(0px 1px 2px rgba(0, 0, 0, 0.3));\n",
              "      fill: #FFFFFF;\n",
              "    }\n",
              "  </style>\n",
              "\n",
              "      <script>\n",
              "        const buttonEl =\n",
              "          document.querySelector('#df-3c946280-0dae-4a13-ae6c-69b09bee0003 button.colab-df-convert');\n",
              "        buttonEl.style.display =\n",
              "          google.colab.kernel.accessAllowed ? 'block' : 'none';\n",
              "\n",
              "        async function convertToInteractive(key) {\n",
              "          const element = document.querySelector('#df-3c946280-0dae-4a13-ae6c-69b09bee0003');\n",
              "          const dataTable =\n",
              "            await google.colab.kernel.invokeFunction('convertToInteractive',\n",
              "                                                     [key], {});\n",
              "          if (!dataTable) return;\n",
              "\n",
              "          const docLinkHtml = 'Like what you see? Visit the ' +\n",
              "            '<a target=\"_blank\" href=https://colab.research.google.com/notebooks/data_table.ipynb>data table notebook</a>'\n",
              "            + ' to learn more about interactive tables.';\n",
              "          element.innerHTML = '';\n",
              "          dataTable['output_type'] = 'display_data';\n",
              "          await google.colab.output.renderOutput(dataTable, element);\n",
              "          const docLink = document.createElement('div');\n",
              "          docLink.innerHTML = docLinkHtml;\n",
              "          element.appendChild(docLink);\n",
              "        }\n",
              "      </script>\n",
              "    </div>\n",
              "  </div>\n",
              "  "
            ]
          },
          "metadata": {},
          "execution_count": 44
        }
      ]
    },
    {
      "cell_type": "code",
      "source": [
        "df.info()"
      ],
      "metadata": {
        "id": "SRH5yGYVPhJB",
        "outputId": "acdf659c-43d4-4879-acbf-d1022b15406d",
        "colab": {
          "base_uri": "https://localhost:8080/"
        }
      },
      "execution_count": 45,
      "outputs": [
        {
          "output_type": "stream",
          "name": "stdout",
          "text": [
            "<class 'pandas.core.frame.DataFrame'>\n",
            "DatetimeIndex: 2564 entries, 2009-01-01 to 2006-01-01\n",
            "Data columns (total 46 columns):\n",
            " #   Column          Non-Null Count  Dtype  \n",
            "---  ------          --------------  -----  \n",
            " 0   1st_Flr_SF      2564 non-null   int64  \n",
            " 1   Bedroom_AbvGr   2564 non-null   int64  \n",
            " 2   Bldg_Type       2564 non-null   object \n",
            " 3   Bsmt_Full_Bath  2564 non-null   float64\n",
            " 4   Bsmt_Half_Bath  2564 non-null   float64\n",
            " 5   Central_Air     2564 non-null   object \n",
            " 6   Condition_1     2564 non-null   object \n",
            " 7   Condition_2     2564 non-null   object \n",
            " 8   Electrical      2564 non-null   object \n",
            " 9   Exter_Cond      2564 non-null   object \n",
            " 10  Exter_Qual      2564 non-null   object \n",
            " 11  Exterior_1st    2564 non-null   object \n",
            " 12  Exterior_2nd    2564 non-null   object \n",
            " 13  Foundation      2564 non-null   object \n",
            " 14  Full_Bath       2564 non-null   int64  \n",
            " 15  Functional      2564 non-null   object \n",
            " 16  Gr_Liv_Area     2564 non-null   int64  \n",
            " 17  Half_Bath       2564 non-null   int64  \n",
            " 18  Heating         2564 non-null   object \n",
            " 19  Heating_QC      2564 non-null   object \n",
            " 20  House_Style     2564 non-null   object \n",
            " 21  Kitchen_AbvGr   2564 non-null   int64  \n",
            " 22  Kitchen_Qual    2564 non-null   object \n",
            " 23  Land_Contour    2564 non-null   object \n",
            " 24  Land_Slope      2564 non-null   object \n",
            " 25  Lot_Area        2564 non-null   int64  \n",
            " 26  Lot_Config      2564 non-null   object \n",
            " 27  Lot_Shape       2564 non-null   object \n",
            " 28  MS_SubClass     2564 non-null   int64  \n",
            " 29  MS_Zoning       2564 non-null   object \n",
            " 30  Mas_Vnr_Type    2564 non-null   object \n",
            " 31  Mo_Sold         2564 non-null   int64  \n",
            " 32  Neighborhood    2564 non-null   object \n",
            " 33  Overall_Cond    2564 non-null   int64  \n",
            " 34  Overall_Qual    2564 non-null   int64  \n",
            " 35  Paved_Drive     2564 non-null   object \n",
            " 36  Roof_Matl       2564 non-null   object \n",
            " 37  Roof_Style      2564 non-null   object \n",
            " 38  SalePrice       2564 non-null   int64  \n",
            " 39  Sale_Condition  2564 non-null   object \n",
            " 40  Sale_Type       2564 non-null   object \n",
            " 41  Street          2564 non-null   object \n",
            " 42  TotRms_AbvGrd   2564 non-null   int64  \n",
            " 43  Utilities       2564 non-null   object \n",
            " 44  Year_Built      2564 non-null   int64  \n",
            " 45  Year_Remod/Add  2564 non-null   int64  \n",
            "dtypes: float64(2), int64(15), object(29)\n",
            "memory usage: 941.5+ KB\n"
          ]
        }
      ]
    },
    {
      "cell_type": "markdown",
      "metadata": {
        "deletable": false,
        "editable": false,
        "nbgrader": {
          "cell_type": "markdown",
          "checksum": "57df30990e0ac2245815c1522618652d",
          "grade": false,
          "grade_id": "cell-7681af23bef769bb",
          "locked": true,
          "schema_version": 3,
          "solution": false,
          "task": false
        },
        "id": "lyCYMhiZEDko"
      },
      "source": [
        "**Task 1 Testing**"
      ]
    },
    {
      "cell_type": "code",
      "execution_count": 46,
      "metadata": {
        "deletable": false,
        "editable": false,
        "nbgrader": {
          "cell_type": "code",
          "checksum": "e374e5061d1a751df80d90f197d2b064",
          "grade": true,
          "grade_id": "cell-25880b9c025295c5",
          "locked": true,
          "points": 1,
          "schema_version": 3,
          "solution": false,
          "task": false
        },
        "id": "Rrh6Qq4xEDko"
      },
      "outputs": [],
      "source": [
        "'''T1 Testing.'''\n",
        "assert isinstance(df, pd.DataFrame), '`df` is not a DataFrame. Did you import the data?'\n",
        "assert len(df) == 2564, 'DataFrame `df` has the wrong number of rows.'\n",
        "assert isinstance(df.index, pd.DatetimeIndex), '`df` does not have a datetime index.'"
      ]
    },
    {
      "cell_type": "markdown",
      "metadata": {
        "deletable": false,
        "editable": false,
        "nbgrader": {
          "cell_type": "markdown",
          "checksum": "0238173d96fa9190e6a2ee242499126a",
          "grade": false,
          "grade_id": "cell-81a7c3a23718bfd1",
          "locked": true,
          "schema_version": 3,
          "solution": false,
          "task": false
        },
        "id": "ZiLJaqf5EDko"
      },
      "source": [
        "**Task 2 (`stretch goal`):** Create a scatter plot that shows `'SalePrice'` as a function of `'Gr_Liv_Area'`. Be sure to label the axes of your plot."
      ]
    },
    {
      "cell_type": "code",
      "execution_count": 47,
      "metadata": {
        "deletable": false,
        "nbgrader": {
          "cell_type": "code",
          "checksum": "894e735ac4bb5911d536ee8852c2111f",
          "grade": false,
          "grade_id": "cell-8ee63eed57f965ea",
          "locked": false,
          "schema_version": 3,
          "solution": true,
          "task": false
        },
        "id": "VxurQFrEEDko"
      },
      "outputs": [],
      "source": [
        "import matplotlib.pyplot as plt\n",
        "\n",
        "# YOUR CODE HERE\n"
      ]
    },
    {
      "cell_type": "markdown",
      "metadata": {
        "deletable": false,
        "editable": false,
        "nbgrader": {
          "cell_type": "markdown",
          "checksum": "8c8dd11e8a0388b018d59e6aca553ab6",
          "grade": false,
          "grade_id": "cell-17226b293bcb9e54",
          "locked": true,
          "schema_version": 3,
          "solution": false,
          "task": false
        },
        "id": "rXj9obf6EDkp"
      },
      "source": [
        "## II. Split Data\n",
        "\n",
        "**Task 3:** Since you're building a model to predict the price at which a house will be sold, your target is the `'SalePrice'` column. Split the DataFrame `df` into the target vector `y` and the feature matrix `X`. "
      ]
    },
    {
      "cell_type": "code",
      "execution_count": 48,
      "metadata": {
        "deletable": false,
        "nbgrader": {
          "cell_type": "code",
          "checksum": "9a2ebca053c8701207fd5db749e36d0a",
          "grade": false,
          "grade_id": "cell-4207f17d2e629cbd",
          "locked": false,
          "schema_version": 3,
          "solution": true,
          "task": false
        },
        "id": "x777Q7oFEDkp"
      },
      "outputs": [],
      "source": [
        "'''T3: Split `df` into `X` and `y`.'''\n",
        "\n",
        "target = 'SalePrice'\n",
        "# YOUR CODE HERE\n",
        "X = df.drop(columns=target)\n",
        "y = df[target]"
      ]
    },
    {
      "cell_type": "markdown",
      "metadata": {
        "deletable": false,
        "editable": false,
        "nbgrader": {
          "cell_type": "markdown",
          "checksum": "0eaf400e2a187b0a44d22c5f94573e8a",
          "grade": false,
          "grade_id": "cell-2f0e0292ea6ebc3b",
          "locked": true,
          "schema_version": 3,
          "solution": false,
          "task": false
        },
        "id": "6mRu9c7cEDkq"
      },
      "source": [
        "**Task 3 Testing**"
      ]
    },
    {
      "cell_type": "code",
      "execution_count": 49,
      "metadata": {
        "deletable": false,
        "editable": false,
        "nbgrader": {
          "cell_type": "code",
          "checksum": "37e8cadf75dc3ed7257d278154912f99",
          "grade": true,
          "grade_id": "cell-7e83bdb6a35f2699",
          "locked": true,
          "points": 1,
          "schema_version": 3,
          "solution": false,
          "task": false
        },
        "id": "Ti-8w8-JEDkq"
      },
      "outputs": [],
      "source": [
        "'''T3 Tests'''\n",
        "assert y.shape == (2564,), '`y` either has the wrong number of rows, or is two-dimentional.'\n",
        "assert X.shape == (2564, 45), '`X` has the wrong number of columns or rows.'\n",
        "assert 'SalePrice' not in X.columns, 'Target is still part of feature matrix.' "
      ]
    },
    {
      "cell_type": "markdown",
      "metadata": {
        "deletable": false,
        "editable": false,
        "nbgrader": {
          "cell_type": "markdown",
          "checksum": "94fa1718a8d544efd9740e055eed9dee",
          "grade": false,
          "grade_id": "cell-708c2f8aa9bebfa1",
          "locked": true,
          "schema_version": 3,
          "solution": false,
          "task": false
        },
        "id": "cS32AlUfEDkr"
      },
      "source": [
        "**Task 4:** Split `X` and `y` into training and validation sets. Since housing prices fluctuate over time, you should use the time-based cutoff method. \n",
        "\n",
        "- Training: Homes sold before 2009\n",
        "- Validation: Homes sold during 2009"
      ]
    },
    {
      "cell_type": "code",
      "execution_count": 50,
      "metadata": {
        "deletable": false,
        "nbgrader": {
          "cell_type": "code",
          "checksum": "11d8d6d6ef1622e19b0e405523389c0e",
          "grade": false,
          "grade_id": "cell-2efa29975d55a10c",
          "locked": false,
          "schema_version": 3,
          "solution": true,
          "task": false
        },
        "id": "544cmTHpEDkr"
      },
      "outputs": [],
      "source": [
        "'''T4: Split `X` and `y` into training, validation, and testing sets.'''\n",
        "\n",
        "# YOUR CODE HERE\n",
        "cutoff = '2009'\n",
        "mask = X.index < cutoff\n",
        "X_train, y_train = X.loc[mask], y.loc[mask]\n",
        "X_val, y_val = X.loc[~mask], y.loc[~mask]\n"
      ]
    },
    {
      "cell_type": "markdown",
      "metadata": {
        "deletable": false,
        "editable": false,
        "nbgrader": {
          "cell_type": "markdown",
          "checksum": "47db7906e0f22fc02ec2827ee582f60d",
          "grade": false,
          "grade_id": "cell-bef5af92ef24c478",
          "locked": true,
          "schema_version": 3,
          "solution": false,
          "task": false
        },
        "id": "CCUAxeTFEDkr"
      },
      "source": [
        "**Task 4 Testing**"
      ]
    },
    {
      "cell_type": "code",
      "execution_count": 51,
      "metadata": {
        "deletable": false,
        "editable": false,
        "nbgrader": {
          "cell_type": "code",
          "checksum": "df87bc0b203410d307eb9773fdbc113d",
          "grade": true,
          "grade_id": "cell-458101f90b6b100b",
          "locked": true,
          "points": 1,
          "schema_version": 3,
          "solution": false,
          "task": false
        },
        "id": "eG4ScYHhEDkr"
      },
      "outputs": [],
      "source": [
        "'''T4 Tests'''\n",
        "assert len(X_train) == len(y_train) == 1920, 'Your training set has the wrong number of rows.'\n",
        "assert len(X_val) == len(y_val) == 644, 'Your validation set has the wrong number of rows.'"
      ]
    },
    {
      "cell_type": "markdown",
      "metadata": {
        "deletable": false,
        "editable": false,
        "nbgrader": {
          "cell_type": "markdown",
          "checksum": "d6a8d57a5e0f00b03dcc7127d385fef3",
          "grade": false,
          "grade_id": "cell-63da195f83201124",
          "locked": true,
          "schema_version": 3,
          "solution": false,
          "task": false
        },
        "id": "Kj-8zhm0EDkr"
      },
      "source": [
        "## III. Set Baseline\n",
        "\n",
        "**Task 5:** Before you can create a model to predict sale price, you need to establish a baseline. First, calculate the mean housing price for your training set. Next, calculate the *mean absolute error* for a model that always predicts that mean. Be sure to assign the mean absolute error to a variable named `baseline_mae`."
      ]
    },
    {
      "cell_type": "code",
      "source": [
        "y_train.head()"
      ],
      "metadata": {
        "id": "BNecOkK-_CNH",
        "outputId": "77216b22-427b-4029-ff4b-74b50d469fef",
        "colab": {
          "base_uri": "https://localhost:8080/"
        }
      },
      "execution_count": 52,
      "outputs": [
        {
          "output_type": "execute_result",
          "data": {
            "text/plain": [
              "Yr_Sold\n",
              "2008-01-01    176500\n",
              "2008-01-01    237500\n",
              "2008-01-01    206900\n",
              "2008-01-01    187500\n",
              "2008-01-01    165000\n",
              "Name: SalePrice, dtype: int64"
            ]
          },
          "metadata": {},
          "execution_count": 52
        }
      ]
    },
    {
      "cell_type": "code",
      "execution_count": 53,
      "metadata": {
        "deletable": false,
        "nbgrader": {
          "cell_type": "code",
          "checksum": "6bd6e555eb003bc08b8ff2ef2f8bc087",
          "grade": false,
          "grade_id": "cell-62dc6e7707644a97",
          "locked": false,
          "schema_version": 3,
          "solution": true,
          "task": false
        },
        "id": "Bqs8tBi0EDks",
        "outputId": "10fb43d7-894d-4171-a762-b3fcaf6c1f26",
        "colab": {
          "base_uri": "https://localhost:8080/"
        }
      },
      "outputs": [
        {
          "output_type": "stream",
          "name": "stdout",
          "text": [
            "Baseline MAE: 58502.9394639757\n"
          ]
        }
      ],
      "source": [
        "'''T5: Calculate baseline mean absolute error.'''\n",
        "from sklearn.metrics import mean_absolute_error\n",
        "\n",
        "# YOUR CODE HERE\n",
        "y_train_pred = [y_train.mean()] * len(y_train)\n",
        "baseline_mae = mean_absolute_error(y_train, y_train_pred)\n",
        "print('Baseline MAE:', baseline_mae)"
      ]
    },
    {
      "cell_type": "markdown",
      "metadata": {
        "deletable": false,
        "editable": false,
        "nbgrader": {
          "cell_type": "markdown",
          "checksum": "89a1eda38ecc3c38f2f7b5ec42a9be9f",
          "grade": false,
          "grade_id": "cell-c76f1e15a9f7093f",
          "locked": true,
          "schema_version": 3,
          "solution": false,
          "task": false
        },
        "id": "kUDwdQ59EDks"
      },
      "source": [
        "**Task 5 Testing**"
      ]
    },
    {
      "cell_type": "code",
      "execution_count": 55,
      "metadata": {
        "deletable": false,
        "editable": false,
        "nbgrader": {
          "cell_type": "code",
          "checksum": "cbb7bc74c0aa899f6bc9745f7947d37a",
          "grade": true,
          "grade_id": "cell-cfcf0f63baa004f9",
          "locked": true,
          "points": 1,
          "schema_version": 3,
          "solution": false,
          "task": false
        },
        "id": "D6B3Hs_tEDks"
      },
      "outputs": [],
      "source": [
        "'''T5 Tests'''\n",
        "assert isinstance(baseline_mae, float), '`baseline_mae` is not a `float`. Have you assigned a value to this variable name?'"
      ]
    },
    {
      "cell_type": "markdown",
      "metadata": {
        "deletable": false,
        "editable": false,
        "nbgrader": {
          "cell_type": "markdown",
          "checksum": "07eabd28839601f0c7a2f98893681016",
          "grade": false,
          "grade_id": "cell-63b7627f91c1e767",
          "locked": true,
          "schema_version": 3,
          "solution": false,
          "task": false
        },
        "id": "QO70NUaZEDks"
      },
      "source": [
        "## IV. Build Models\n",
        "\n",
        "**Task 6:** Build and train a linear regression model named `model_lr` that predicts home sale price. Your model should have the following components:\n",
        "\n",
        "- A `OneHotEncoder` for categorical features.\n",
        "- A `StandardScaler` so that you can compare your model coefficients after training.\n",
        "- A `pipeline` that combines transformers and predictor.\n",
        "\n",
        "**Tip:** For your `OneHotEncoder`, `use_cat_names` should be set to `True`."
      ]
    },
    {
      "cell_type": "code",
      "execution_count": 56,
      "metadata": {
        "deletable": false,
        "nbgrader": {
          "cell_type": "code",
          "checksum": "3236c609a2729c303682be55af187cb2",
          "grade": false,
          "grade_id": "cell-b80a918d2acd5e24",
          "locked": false,
          "schema_version": 3,
          "solution": true,
          "task": false
        },
        "id": "PFSQkYTAEDkt"
      },
      "outputs": [],
      "source": [
        "'''T6: Build and train LinearRegression model.'''\n",
        "from sklearn.pipeline import make_pipeline\n",
        "from sklearn.linear_model import LinearRegression\n",
        "from category_encoders import OneHotEncoder\n",
        "from sklearn.preprocessing import StandardScaler\n",
        "\n",
        "# YOUR CODE HERE\n",
        "model_lr = make_pipeline(\n",
        "    OneHotEncoder(use_cat_names=True),\n",
        "    SimpleImputer(),\n",
        "    StandardScaler(),\n",
        "    LinearRegression()\n",
        ")\n",
        "model_lr.fit(X_train, y_train);"
      ]
    },
    {
      "cell_type": "markdown",
      "metadata": {
        "deletable": false,
        "editable": false,
        "nbgrader": {
          "cell_type": "markdown",
          "checksum": "338030033710797cd30babb94a6754df",
          "grade": false,
          "grade_id": "cell-b11e913f60dd1a4f",
          "locked": true,
          "schema_version": 3,
          "solution": false,
          "task": false
        },
        "id": "Ym1Ypus1EDkt"
      },
      "source": [
        "**Task 6 Testing**"
      ]
    },
    {
      "cell_type": "code",
      "execution_count": 57,
      "metadata": {
        "deletable": false,
        "editable": false,
        "nbgrader": {
          "cell_type": "code",
          "checksum": "468f711478be292802bc195e53341b4e",
          "grade": true,
          "grade_id": "cell-066938e1bd64a34c",
          "locked": true,
          "points": 1,
          "schema_version": 3,
          "solution": false,
          "task": false
        },
        "id": "swIauPBREDkt"
      },
      "outputs": [],
      "source": [
        "'''T6 Tests'''\n",
        "from sklearn.pipeline import Pipeline\n",
        "assert isinstance(model_lr, Pipeline), '`model_lr` is not a pipeline.'\n",
        "assert len(model_lr.named_steps) > 1, 'Your `model_lr` pipeline is missing components.'"
      ]
    },
    {
      "cell_type": "code",
      "source": [
        "df.head()"
      ],
      "metadata": {
        "id": "Q2KvsxjYXZo_",
        "outputId": "111aa200-291c-4062-e7f3-20662a68835f",
        "colab": {
          "base_uri": "https://localhost:8080/",
          "height": 418
        }
      },
      "execution_count": 58,
      "outputs": [
        {
          "output_type": "execute_result",
          "data": {
            "text/plain": [
              "            1st_Flr_SF  Bedroom_AbvGr Bldg_Type  Bsmt_Full_Bath  \\\n",
              "Yr_Sold                                                           \n",
              "2009-01-01         882              2      1Fam             0.0   \n",
              "2009-01-01        1434              4      1Fam             1.0   \n",
              "2009-01-01        2000              4      1Fam             1.0   \n",
              "2009-01-01         945              3      1Fam             0.0   \n",
              "2009-01-01        1008              4      1Fam             0.0   \n",
              "\n",
              "            Bsmt_Half_Bath Central_Air Condition_1 Condition_2 Electrical  \\\n",
              "Yr_Sold                                                                     \n",
              "2009-01-01             0.0           Y        Norm        Norm      SBrkr   \n",
              "2009-01-01             0.0           Y        Norm        Norm      SBrkr   \n",
              "2009-01-01             0.0           Y        Norm        Norm      SBrkr   \n",
              "2009-01-01             0.0           Y        Norm        Norm      SBrkr   \n",
              "2009-01-01             0.0           Y        Norm        Norm      SBrkr   \n",
              "\n",
              "           Exter_Cond  ... Roof_Matl Roof_Style SalePrice Sale_Condition  \\\n",
              "Yr_Sold                ...                                                 \n",
              "2009-01-01         TA  ...   CompShg      Gable    124500         Normal   \n",
              "2009-01-01         TA  ...   CompShg        Hip    157000         Normal   \n",
              "2009-01-01         TA  ...   CompShg      Gable    345000         Normal   \n",
              "2009-01-01         TA  ...   CompShg      Gable    189500         Normal   \n",
              "2009-01-01         TA  ...   CompShg      Gable    270000         Normal   \n",
              "\n",
              "            Sale_Type Street  TotRms_AbvGrd  Utilities Year_Built  \\\n",
              "Yr_Sold                                                             \n",
              "2009-01-01        WD    Pave              5     AllPub       1956   \n",
              "2009-01-01        WD    Pave              7     AllPub       1974   \n",
              "2009-01-01        WD    Pave              9     AllPub       1972   \n",
              "2009-01-01        WD    Pave              7     AllPub       1997   \n",
              "2009-01-01        WD    Pave              9     AllPub       2003   \n",
              "\n",
              "           Year_Remod/Add  \n",
              "Yr_Sold                    \n",
              "2009-01-01           1956  \n",
              "2009-01-01           1974  \n",
              "2009-01-01           1995  \n",
              "2009-01-01           1997  \n",
              "2009-01-01           2003  \n",
              "\n",
              "[5 rows x 46 columns]"
            ],
            "text/html": [
              "\n",
              "  <div id=\"df-ef60cd84-7541-4675-b9ce-954fac40f15c\">\n",
              "    <div class=\"colab-df-container\">\n",
              "      <div>\n",
              "<style scoped>\n",
              "    .dataframe tbody tr th:only-of-type {\n",
              "        vertical-align: middle;\n",
              "    }\n",
              "\n",
              "    .dataframe tbody tr th {\n",
              "        vertical-align: top;\n",
              "    }\n",
              "\n",
              "    .dataframe thead th {\n",
              "        text-align: right;\n",
              "    }\n",
              "</style>\n",
              "<table border=\"1\" class=\"dataframe\">\n",
              "  <thead>\n",
              "    <tr style=\"text-align: right;\">\n",
              "      <th></th>\n",
              "      <th>1st_Flr_SF</th>\n",
              "      <th>Bedroom_AbvGr</th>\n",
              "      <th>Bldg_Type</th>\n",
              "      <th>Bsmt_Full_Bath</th>\n",
              "      <th>Bsmt_Half_Bath</th>\n",
              "      <th>Central_Air</th>\n",
              "      <th>Condition_1</th>\n",
              "      <th>Condition_2</th>\n",
              "      <th>Electrical</th>\n",
              "      <th>Exter_Cond</th>\n",
              "      <th>...</th>\n",
              "      <th>Roof_Matl</th>\n",
              "      <th>Roof_Style</th>\n",
              "      <th>SalePrice</th>\n",
              "      <th>Sale_Condition</th>\n",
              "      <th>Sale_Type</th>\n",
              "      <th>Street</th>\n",
              "      <th>TotRms_AbvGrd</th>\n",
              "      <th>Utilities</th>\n",
              "      <th>Year_Built</th>\n",
              "      <th>Year_Remod/Add</th>\n",
              "    </tr>\n",
              "    <tr>\n",
              "      <th>Yr_Sold</th>\n",
              "      <th></th>\n",
              "      <th></th>\n",
              "      <th></th>\n",
              "      <th></th>\n",
              "      <th></th>\n",
              "      <th></th>\n",
              "      <th></th>\n",
              "      <th></th>\n",
              "      <th></th>\n",
              "      <th></th>\n",
              "      <th></th>\n",
              "      <th></th>\n",
              "      <th></th>\n",
              "      <th></th>\n",
              "      <th></th>\n",
              "      <th></th>\n",
              "      <th></th>\n",
              "      <th></th>\n",
              "      <th></th>\n",
              "      <th></th>\n",
              "      <th></th>\n",
              "    </tr>\n",
              "  </thead>\n",
              "  <tbody>\n",
              "    <tr>\n",
              "      <th>2009-01-01</th>\n",
              "      <td>882</td>\n",
              "      <td>2</td>\n",
              "      <td>1Fam</td>\n",
              "      <td>0.0</td>\n",
              "      <td>0.0</td>\n",
              "      <td>Y</td>\n",
              "      <td>Norm</td>\n",
              "      <td>Norm</td>\n",
              "      <td>SBrkr</td>\n",
              "      <td>TA</td>\n",
              "      <td>...</td>\n",
              "      <td>CompShg</td>\n",
              "      <td>Gable</td>\n",
              "      <td>124500</td>\n",
              "      <td>Normal</td>\n",
              "      <td>WD</td>\n",
              "      <td>Pave</td>\n",
              "      <td>5</td>\n",
              "      <td>AllPub</td>\n",
              "      <td>1956</td>\n",
              "      <td>1956</td>\n",
              "    </tr>\n",
              "    <tr>\n",
              "      <th>2009-01-01</th>\n",
              "      <td>1434</td>\n",
              "      <td>4</td>\n",
              "      <td>1Fam</td>\n",
              "      <td>1.0</td>\n",
              "      <td>0.0</td>\n",
              "      <td>Y</td>\n",
              "      <td>Norm</td>\n",
              "      <td>Norm</td>\n",
              "      <td>SBrkr</td>\n",
              "      <td>TA</td>\n",
              "      <td>...</td>\n",
              "      <td>CompShg</td>\n",
              "      <td>Hip</td>\n",
              "      <td>157000</td>\n",
              "      <td>Normal</td>\n",
              "      <td>WD</td>\n",
              "      <td>Pave</td>\n",
              "      <td>7</td>\n",
              "      <td>AllPub</td>\n",
              "      <td>1974</td>\n",
              "      <td>1974</td>\n",
              "    </tr>\n",
              "    <tr>\n",
              "      <th>2009-01-01</th>\n",
              "      <td>2000</td>\n",
              "      <td>4</td>\n",
              "      <td>1Fam</td>\n",
              "      <td>1.0</td>\n",
              "      <td>0.0</td>\n",
              "      <td>Y</td>\n",
              "      <td>Norm</td>\n",
              "      <td>Norm</td>\n",
              "      <td>SBrkr</td>\n",
              "      <td>TA</td>\n",
              "      <td>...</td>\n",
              "      <td>CompShg</td>\n",
              "      <td>Gable</td>\n",
              "      <td>345000</td>\n",
              "      <td>Normal</td>\n",
              "      <td>WD</td>\n",
              "      <td>Pave</td>\n",
              "      <td>9</td>\n",
              "      <td>AllPub</td>\n",
              "      <td>1972</td>\n",
              "      <td>1995</td>\n",
              "    </tr>\n",
              "    <tr>\n",
              "      <th>2009-01-01</th>\n",
              "      <td>945</td>\n",
              "      <td>3</td>\n",
              "      <td>1Fam</td>\n",
              "      <td>0.0</td>\n",
              "      <td>0.0</td>\n",
              "      <td>Y</td>\n",
              "      <td>Norm</td>\n",
              "      <td>Norm</td>\n",
              "      <td>SBrkr</td>\n",
              "      <td>TA</td>\n",
              "      <td>...</td>\n",
              "      <td>CompShg</td>\n",
              "      <td>Gable</td>\n",
              "      <td>189500</td>\n",
              "      <td>Normal</td>\n",
              "      <td>WD</td>\n",
              "      <td>Pave</td>\n",
              "      <td>7</td>\n",
              "      <td>AllPub</td>\n",
              "      <td>1997</td>\n",
              "      <td>1997</td>\n",
              "    </tr>\n",
              "    <tr>\n",
              "      <th>2009-01-01</th>\n",
              "      <td>1008</td>\n",
              "      <td>4</td>\n",
              "      <td>1Fam</td>\n",
              "      <td>0.0</td>\n",
              "      <td>0.0</td>\n",
              "      <td>Y</td>\n",
              "      <td>Norm</td>\n",
              "      <td>Norm</td>\n",
              "      <td>SBrkr</td>\n",
              "      <td>TA</td>\n",
              "      <td>...</td>\n",
              "      <td>CompShg</td>\n",
              "      <td>Gable</td>\n",
              "      <td>270000</td>\n",
              "      <td>Normal</td>\n",
              "      <td>WD</td>\n",
              "      <td>Pave</td>\n",
              "      <td>9</td>\n",
              "      <td>AllPub</td>\n",
              "      <td>2003</td>\n",
              "      <td>2003</td>\n",
              "    </tr>\n",
              "  </tbody>\n",
              "</table>\n",
              "<p>5 rows × 46 columns</p>\n",
              "</div>\n",
              "      <button class=\"colab-df-convert\" onclick=\"convertToInteractive('df-ef60cd84-7541-4675-b9ce-954fac40f15c')\"\n",
              "              title=\"Convert this dataframe to an interactive table.\"\n",
              "              style=\"display:none;\">\n",
              "        \n",
              "  <svg xmlns=\"http://www.w3.org/2000/svg\" height=\"24px\"viewBox=\"0 0 24 24\"\n",
              "       width=\"24px\">\n",
              "    <path d=\"M0 0h24v24H0V0z\" fill=\"none\"/>\n",
              "    <path d=\"M18.56 5.44l.94 2.06.94-2.06 2.06-.94-2.06-.94-.94-2.06-.94 2.06-2.06.94zm-11 1L8.5 8.5l.94-2.06 2.06-.94-2.06-.94L8.5 2.5l-.94 2.06-2.06.94zm10 10l.94 2.06.94-2.06 2.06-.94-2.06-.94-.94-2.06-.94 2.06-2.06.94z\"/><path d=\"M17.41 7.96l-1.37-1.37c-.4-.4-.92-.59-1.43-.59-.52 0-1.04.2-1.43.59L10.3 9.45l-7.72 7.72c-.78.78-.78 2.05 0 2.83L4 21.41c.39.39.9.59 1.41.59.51 0 1.02-.2 1.41-.59l7.78-7.78 2.81-2.81c.8-.78.8-2.07 0-2.86zM5.41 20L4 18.59l7.72-7.72 1.47 1.35L5.41 20z\"/>\n",
              "  </svg>\n",
              "      </button>\n",
              "      \n",
              "  <style>\n",
              "    .colab-df-container {\n",
              "      display:flex;\n",
              "      flex-wrap:wrap;\n",
              "      gap: 12px;\n",
              "    }\n",
              "\n",
              "    .colab-df-convert {\n",
              "      background-color: #E8F0FE;\n",
              "      border: none;\n",
              "      border-radius: 50%;\n",
              "      cursor: pointer;\n",
              "      display: none;\n",
              "      fill: #1967D2;\n",
              "      height: 32px;\n",
              "      padding: 0 0 0 0;\n",
              "      width: 32px;\n",
              "    }\n",
              "\n",
              "    .colab-df-convert:hover {\n",
              "      background-color: #E2EBFA;\n",
              "      box-shadow: 0px 1px 2px rgba(60, 64, 67, 0.3), 0px 1px 3px 1px rgba(60, 64, 67, 0.15);\n",
              "      fill: #174EA6;\n",
              "    }\n",
              "\n",
              "    [theme=dark] .colab-df-convert {\n",
              "      background-color: #3B4455;\n",
              "      fill: #D2E3FC;\n",
              "    }\n",
              "\n",
              "    [theme=dark] .colab-df-convert:hover {\n",
              "      background-color: #434B5C;\n",
              "      box-shadow: 0px 1px 3px 1px rgba(0, 0, 0, 0.15);\n",
              "      filter: drop-shadow(0px 1px 2px rgba(0, 0, 0, 0.3));\n",
              "      fill: #FFFFFF;\n",
              "    }\n",
              "  </style>\n",
              "\n",
              "      <script>\n",
              "        const buttonEl =\n",
              "          document.querySelector('#df-ef60cd84-7541-4675-b9ce-954fac40f15c button.colab-df-convert');\n",
              "        buttonEl.style.display =\n",
              "          google.colab.kernel.accessAllowed ? 'block' : 'none';\n",
              "\n",
              "        async function convertToInteractive(key) {\n",
              "          const element = document.querySelector('#df-ef60cd84-7541-4675-b9ce-954fac40f15c');\n",
              "          const dataTable =\n",
              "            await google.colab.kernel.invokeFunction('convertToInteractive',\n",
              "                                                     [key], {});\n",
              "          if (!dataTable) return;\n",
              "\n",
              "          const docLinkHtml = 'Like what you see? Visit the ' +\n",
              "            '<a target=\"_blank\" href=https://colab.research.google.com/notebooks/data_table.ipynb>data table notebook</a>'\n",
              "            + ' to learn more about interactive tables.';\n",
              "          element.innerHTML = '';\n",
              "          dataTable['output_type'] = 'display_data';\n",
              "          await google.colab.output.renderOutput(dataTable, element);\n",
              "          const docLink = document.createElement('div');\n",
              "          docLink.innerHTML = docLinkHtml;\n",
              "          element.appendChild(docLink);\n",
              "        }\n",
              "      </script>\n",
              "    </div>\n",
              "  </div>\n",
              "  "
            ]
          },
          "metadata": {},
          "execution_count": 58
        }
      ]
    },
    {
      "cell_type": "markdown",
      "metadata": {
        "deletable": false,
        "editable": false,
        "nbgrader": {
          "cell_type": "markdown",
          "checksum": "7a6a411b3833aaf17296afc3f2c6f29c",
          "grade": false,
          "grade_id": "cell-6a4782a94cdea347",
          "locked": true,
          "schema_version": 3,
          "solution": false,
          "task": false
        },
        "id": "PK_GKwxPEDkt"
      },
      "source": [
        "**Task 7:** Build and train a ridge regression model named `model_r` that predicts home sales price. Your model should include the following components:\n",
        "\n",
        "- A `OneHotEncoder` for categorical features.\n",
        "- A `StandardScaler` so that you can compare your model coefficients after training.\n",
        "- A `pipeline` that combines transformers and predictor.\n",
        "\n",
        "**Tip:** If you combine a `StandardScaler` transformer with a `Ridge` predictor, you should set the `normalize` argument for the latter to `False`."
      ]
    },
    {
      "cell_type": "code",
      "execution_count": 59,
      "metadata": {
        "deletable": false,
        "nbgrader": {
          "cell_type": "code",
          "checksum": "46bcd5b6c64f4a1ae928ef1acd3b9de9",
          "grade": false,
          "grade_id": "cell-02455b6368014e2e",
          "locked": false,
          "schema_version": 3,
          "solution": true,
          "task": false
        },
        "id": "60FLokIlEDkt",
        "colab": {
          "base_uri": "https://localhost:8080/"
        },
        "outputId": "9abc103c-40af-4857-a972-8c961ca358ac"
      },
      "outputs": [
        {
          "output_type": "stream",
          "name": "stderr",
          "text": [
            "/usr/local/lib/python3.8/dist-packages/sklearn/linear_model/_base.py:148: FutureWarning: 'normalize' was deprecated in version 1.0 and will be removed in 1.2. Please leave the normalize parameter to its default value to silence this warning. The default behavior of this estimator is to not do any normalization. If normalization is needed please use sklearn.preprocessing.StandardScaler instead.\n",
            "  warnings.warn(\n"
          ]
        }
      ],
      "source": [
        "'''T7. Build and train Ridge model.'''\n",
        "from sklearn.linear_model import Ridge\n",
        "from sklearn.pipeline import make_pipeline\n",
        "from sklearn.pipeline import Pipeline\n",
        "# YOUR CODE HERE\n",
        "model_r = make_pipeline(\n",
        "    OneHotEncoder(use_cat_names=True),\n",
        "    StandardScaler(),\n",
        "    Ridge(normalize=False)\n",
        ")\n",
        " \n",
        "model_r.fit(X_train, y_train);"
      ]
    },
    {
      "cell_type": "markdown",
      "metadata": {
        "deletable": false,
        "editable": false,
        "nbgrader": {
          "cell_type": "markdown",
          "checksum": "90aa367eafd0e03865b2cc63362e514b",
          "grade": false,
          "grade_id": "cell-2aa05e9d2072aafc",
          "locked": true,
          "schema_version": 3,
          "solution": false,
          "task": false
        },
        "id": "JvyDTuJPEDkt"
      },
      "source": [
        "**Task 7 Testing**"
      ]
    },
    {
      "cell_type": "code",
      "execution_count": 60,
      "metadata": {
        "deletable": false,
        "editable": false,
        "nbgrader": {
          "cell_type": "code",
          "checksum": "494444724b003384b1d52268e65b1de5",
          "grade": true,
          "grade_id": "cell-587e7ab699c005cb",
          "locked": true,
          "points": 1,
          "schema_version": 3,
          "solution": false,
          "task": false
        },
        "id": "RBebwzMdEDku"
      },
      "outputs": [],
      "source": [
        "assert isinstance(model_r, Pipeline), '`model_r` is not a pipeline.'\n",
        "assert len(model_r.named_steps) > 1, 'Your `model_r` pipeline is missing components.'"
      ]
    },
    {
      "cell_type": "markdown",
      "metadata": {
        "deletable": false,
        "editable": false,
        "nbgrader": {
          "cell_type": "markdown",
          "checksum": "4d39f90747ab640c15dba634dc5ddfb0",
          "grade": false,
          "grade_id": "cell-cb2403e89e718a6d",
          "locked": true,
          "schema_version": 3,
          "solution": false,
          "task": false
        },
        "id": "f_LMyJ5OEDku"
      },
      "source": [
        "## V. Check Metrics\n",
        "\n",
        "**Task 8:** Compare your models by calculating their mean absolute error for the training and validation sets. You should assign these to the variables `model_lr_training_mae`, `model_lr_validation_mae`, `model_r_training_mae`, and `model_r_validation_mae`, respectively. The validation MAE for your Ridge model should be lower than your `baseline_mae`."
      ]
    },
    {
      "cell_type": "code",
      "source": [
        "df.head()"
      ],
      "metadata": {
        "colab": {
          "base_uri": "https://localhost:8080/",
          "height": 418
        },
        "id": "NPtA6GrsWihu",
        "outputId": "a6df7fe0-c3f3-4529-e88f-6f595526b785"
      },
      "execution_count": 30,
      "outputs": [
        {
          "output_type": "execute_result",
          "data": {
            "text/plain": [
              "            1st_Flr_SF  Bedroom_AbvGr Bldg_Type  Bsmt_Full_Bath  \\\n",
              "Yr_Sold                                                           \n",
              "2009-01-01         882              2      1Fam             0.0   \n",
              "2009-01-01        1434              4      1Fam             1.0   \n",
              "2009-01-01        2000              4      1Fam             1.0   \n",
              "2009-01-01         945              3      1Fam             0.0   \n",
              "2009-01-01        1008              4      1Fam             0.0   \n",
              "\n",
              "            Bsmt_Half_Bath Central_Air Condition_1 Condition_2 Electrical  \\\n",
              "Yr_Sold                                                                     \n",
              "2009-01-01             0.0           Y        Norm        Norm      SBrkr   \n",
              "2009-01-01             0.0           Y        Norm        Norm      SBrkr   \n",
              "2009-01-01             0.0           Y        Norm        Norm      SBrkr   \n",
              "2009-01-01             0.0           Y        Norm        Norm      SBrkr   \n",
              "2009-01-01             0.0           Y        Norm        Norm      SBrkr   \n",
              "\n",
              "           Exter_Cond  ... Roof_Matl Roof_Style SalePrice Sale_Condition  \\\n",
              "Yr_Sold                ...                                                 \n",
              "2009-01-01         TA  ...   CompShg      Gable    124500         Normal   \n",
              "2009-01-01         TA  ...   CompShg        Hip    157000         Normal   \n",
              "2009-01-01         TA  ...   CompShg      Gable    345000         Normal   \n",
              "2009-01-01         TA  ...   CompShg      Gable    189500         Normal   \n",
              "2009-01-01         TA  ...   CompShg      Gable    270000         Normal   \n",
              "\n",
              "            Sale_Type Street  TotRms_AbvGrd  Utilities Year_Built  \\\n",
              "Yr_Sold                                                             \n",
              "2009-01-01        WD    Pave              5     AllPub       1956   \n",
              "2009-01-01        WD    Pave              7     AllPub       1974   \n",
              "2009-01-01        WD    Pave              9     AllPub       1972   \n",
              "2009-01-01        WD    Pave              7     AllPub       1997   \n",
              "2009-01-01        WD    Pave              9     AllPub       2003   \n",
              "\n",
              "           Year_Remod/Add  \n",
              "Yr_Sold                    \n",
              "2009-01-01           1956  \n",
              "2009-01-01           1974  \n",
              "2009-01-01           1995  \n",
              "2009-01-01           1997  \n",
              "2009-01-01           2003  \n",
              "\n",
              "[5 rows x 46 columns]"
            ],
            "text/html": [
              "\n",
              "  <div id=\"df-9ce28f11-138d-4d4e-bbce-79ad31a38bee\">\n",
              "    <div class=\"colab-df-container\">\n",
              "      <div>\n",
              "<style scoped>\n",
              "    .dataframe tbody tr th:only-of-type {\n",
              "        vertical-align: middle;\n",
              "    }\n",
              "\n",
              "    .dataframe tbody tr th {\n",
              "        vertical-align: top;\n",
              "    }\n",
              "\n",
              "    .dataframe thead th {\n",
              "        text-align: right;\n",
              "    }\n",
              "</style>\n",
              "<table border=\"1\" class=\"dataframe\">\n",
              "  <thead>\n",
              "    <tr style=\"text-align: right;\">\n",
              "      <th></th>\n",
              "      <th>1st_Flr_SF</th>\n",
              "      <th>Bedroom_AbvGr</th>\n",
              "      <th>Bldg_Type</th>\n",
              "      <th>Bsmt_Full_Bath</th>\n",
              "      <th>Bsmt_Half_Bath</th>\n",
              "      <th>Central_Air</th>\n",
              "      <th>Condition_1</th>\n",
              "      <th>Condition_2</th>\n",
              "      <th>Electrical</th>\n",
              "      <th>Exter_Cond</th>\n",
              "      <th>...</th>\n",
              "      <th>Roof_Matl</th>\n",
              "      <th>Roof_Style</th>\n",
              "      <th>SalePrice</th>\n",
              "      <th>Sale_Condition</th>\n",
              "      <th>Sale_Type</th>\n",
              "      <th>Street</th>\n",
              "      <th>TotRms_AbvGrd</th>\n",
              "      <th>Utilities</th>\n",
              "      <th>Year_Built</th>\n",
              "      <th>Year_Remod/Add</th>\n",
              "    </tr>\n",
              "    <tr>\n",
              "      <th>Yr_Sold</th>\n",
              "      <th></th>\n",
              "      <th></th>\n",
              "      <th></th>\n",
              "      <th></th>\n",
              "      <th></th>\n",
              "      <th></th>\n",
              "      <th></th>\n",
              "      <th></th>\n",
              "      <th></th>\n",
              "      <th></th>\n",
              "      <th></th>\n",
              "      <th></th>\n",
              "      <th></th>\n",
              "      <th></th>\n",
              "      <th></th>\n",
              "      <th></th>\n",
              "      <th></th>\n",
              "      <th></th>\n",
              "      <th></th>\n",
              "      <th></th>\n",
              "      <th></th>\n",
              "    </tr>\n",
              "  </thead>\n",
              "  <tbody>\n",
              "    <tr>\n",
              "      <th>2009-01-01</th>\n",
              "      <td>882</td>\n",
              "      <td>2</td>\n",
              "      <td>1Fam</td>\n",
              "      <td>0.0</td>\n",
              "      <td>0.0</td>\n",
              "      <td>Y</td>\n",
              "      <td>Norm</td>\n",
              "      <td>Norm</td>\n",
              "      <td>SBrkr</td>\n",
              "      <td>TA</td>\n",
              "      <td>...</td>\n",
              "      <td>CompShg</td>\n",
              "      <td>Gable</td>\n",
              "      <td>124500</td>\n",
              "      <td>Normal</td>\n",
              "      <td>WD</td>\n",
              "      <td>Pave</td>\n",
              "      <td>5</td>\n",
              "      <td>AllPub</td>\n",
              "      <td>1956</td>\n",
              "      <td>1956</td>\n",
              "    </tr>\n",
              "    <tr>\n",
              "      <th>2009-01-01</th>\n",
              "      <td>1434</td>\n",
              "      <td>4</td>\n",
              "      <td>1Fam</td>\n",
              "      <td>1.0</td>\n",
              "      <td>0.0</td>\n",
              "      <td>Y</td>\n",
              "      <td>Norm</td>\n",
              "      <td>Norm</td>\n",
              "      <td>SBrkr</td>\n",
              "      <td>TA</td>\n",
              "      <td>...</td>\n",
              "      <td>CompShg</td>\n",
              "      <td>Hip</td>\n",
              "      <td>157000</td>\n",
              "      <td>Normal</td>\n",
              "      <td>WD</td>\n",
              "      <td>Pave</td>\n",
              "      <td>7</td>\n",
              "      <td>AllPub</td>\n",
              "      <td>1974</td>\n",
              "      <td>1974</td>\n",
              "    </tr>\n",
              "    <tr>\n",
              "      <th>2009-01-01</th>\n",
              "      <td>2000</td>\n",
              "      <td>4</td>\n",
              "      <td>1Fam</td>\n",
              "      <td>1.0</td>\n",
              "      <td>0.0</td>\n",
              "      <td>Y</td>\n",
              "      <td>Norm</td>\n",
              "      <td>Norm</td>\n",
              "      <td>SBrkr</td>\n",
              "      <td>TA</td>\n",
              "      <td>...</td>\n",
              "      <td>CompShg</td>\n",
              "      <td>Gable</td>\n",
              "      <td>345000</td>\n",
              "      <td>Normal</td>\n",
              "      <td>WD</td>\n",
              "      <td>Pave</td>\n",
              "      <td>9</td>\n",
              "      <td>AllPub</td>\n",
              "      <td>1972</td>\n",
              "      <td>1995</td>\n",
              "    </tr>\n",
              "    <tr>\n",
              "      <th>2009-01-01</th>\n",
              "      <td>945</td>\n",
              "      <td>3</td>\n",
              "      <td>1Fam</td>\n",
              "      <td>0.0</td>\n",
              "      <td>0.0</td>\n",
              "      <td>Y</td>\n",
              "      <td>Norm</td>\n",
              "      <td>Norm</td>\n",
              "      <td>SBrkr</td>\n",
              "      <td>TA</td>\n",
              "      <td>...</td>\n",
              "      <td>CompShg</td>\n",
              "      <td>Gable</td>\n",
              "      <td>189500</td>\n",
              "      <td>Normal</td>\n",
              "      <td>WD</td>\n",
              "      <td>Pave</td>\n",
              "      <td>7</td>\n",
              "      <td>AllPub</td>\n",
              "      <td>1997</td>\n",
              "      <td>1997</td>\n",
              "    </tr>\n",
              "    <tr>\n",
              "      <th>2009-01-01</th>\n",
              "      <td>1008</td>\n",
              "      <td>4</td>\n",
              "      <td>1Fam</td>\n",
              "      <td>0.0</td>\n",
              "      <td>0.0</td>\n",
              "      <td>Y</td>\n",
              "      <td>Norm</td>\n",
              "      <td>Norm</td>\n",
              "      <td>SBrkr</td>\n",
              "      <td>TA</td>\n",
              "      <td>...</td>\n",
              "      <td>CompShg</td>\n",
              "      <td>Gable</td>\n",
              "      <td>270000</td>\n",
              "      <td>Normal</td>\n",
              "      <td>WD</td>\n",
              "      <td>Pave</td>\n",
              "      <td>9</td>\n",
              "      <td>AllPub</td>\n",
              "      <td>2003</td>\n",
              "      <td>2003</td>\n",
              "    </tr>\n",
              "  </tbody>\n",
              "</table>\n",
              "<p>5 rows × 46 columns</p>\n",
              "</div>\n",
              "      <button class=\"colab-df-convert\" onclick=\"convertToInteractive('df-9ce28f11-138d-4d4e-bbce-79ad31a38bee')\"\n",
              "              title=\"Convert this dataframe to an interactive table.\"\n",
              "              style=\"display:none;\">\n",
              "        \n",
              "  <svg xmlns=\"http://www.w3.org/2000/svg\" height=\"24px\"viewBox=\"0 0 24 24\"\n",
              "       width=\"24px\">\n",
              "    <path d=\"M0 0h24v24H0V0z\" fill=\"none\"/>\n",
              "    <path d=\"M18.56 5.44l.94 2.06.94-2.06 2.06-.94-2.06-.94-.94-2.06-.94 2.06-2.06.94zm-11 1L8.5 8.5l.94-2.06 2.06-.94-2.06-.94L8.5 2.5l-.94 2.06-2.06.94zm10 10l.94 2.06.94-2.06 2.06-.94-2.06-.94-.94-2.06-.94 2.06-2.06.94z\"/><path d=\"M17.41 7.96l-1.37-1.37c-.4-.4-.92-.59-1.43-.59-.52 0-1.04.2-1.43.59L10.3 9.45l-7.72 7.72c-.78.78-.78 2.05 0 2.83L4 21.41c.39.39.9.59 1.41.59.51 0 1.02-.2 1.41-.59l7.78-7.78 2.81-2.81c.8-.78.8-2.07 0-2.86zM5.41 20L4 18.59l7.72-7.72 1.47 1.35L5.41 20z\"/>\n",
              "  </svg>\n",
              "      </button>\n",
              "      \n",
              "  <style>\n",
              "    .colab-df-container {\n",
              "      display:flex;\n",
              "      flex-wrap:wrap;\n",
              "      gap: 12px;\n",
              "    }\n",
              "\n",
              "    .colab-df-convert {\n",
              "      background-color: #E8F0FE;\n",
              "      border: none;\n",
              "      border-radius: 50%;\n",
              "      cursor: pointer;\n",
              "      display: none;\n",
              "      fill: #1967D2;\n",
              "      height: 32px;\n",
              "      padding: 0 0 0 0;\n",
              "      width: 32px;\n",
              "    }\n",
              "\n",
              "    .colab-df-convert:hover {\n",
              "      background-color: #E2EBFA;\n",
              "      box-shadow: 0px 1px 2px rgba(60, 64, 67, 0.3), 0px 1px 3px 1px rgba(60, 64, 67, 0.15);\n",
              "      fill: #174EA6;\n",
              "    }\n",
              "\n",
              "    [theme=dark] .colab-df-convert {\n",
              "      background-color: #3B4455;\n",
              "      fill: #D2E3FC;\n",
              "    }\n",
              "\n",
              "    [theme=dark] .colab-df-convert:hover {\n",
              "      background-color: #434B5C;\n",
              "      box-shadow: 0px 1px 3px 1px rgba(0, 0, 0, 0.15);\n",
              "      filter: drop-shadow(0px 1px 2px rgba(0, 0, 0, 0.3));\n",
              "      fill: #FFFFFF;\n",
              "    }\n",
              "  </style>\n",
              "\n",
              "      <script>\n",
              "        const buttonEl =\n",
              "          document.querySelector('#df-9ce28f11-138d-4d4e-bbce-79ad31a38bee button.colab-df-convert');\n",
              "        buttonEl.style.display =\n",
              "          google.colab.kernel.accessAllowed ? 'block' : 'none';\n",
              "\n",
              "        async function convertToInteractive(key) {\n",
              "          const element = document.querySelector('#df-9ce28f11-138d-4d4e-bbce-79ad31a38bee');\n",
              "          const dataTable =\n",
              "            await google.colab.kernel.invokeFunction('convertToInteractive',\n",
              "                                                     [key], {});\n",
              "          if (!dataTable) return;\n",
              "\n",
              "          const docLinkHtml = 'Like what you see? Visit the ' +\n",
              "            '<a target=\"_blank\" href=https://colab.research.google.com/notebooks/data_table.ipynb>data table notebook</a>'\n",
              "            + ' to learn more about interactive tables.';\n",
              "          element.innerHTML = '';\n",
              "          dataTable['output_type'] = 'display_data';\n",
              "          await google.colab.output.renderOutput(dataTable, element);\n",
              "          const docLink = document.createElement('div');\n",
              "          docLink.innerHTML = docLinkHtml;\n",
              "          element.appendChild(docLink);\n",
              "        }\n",
              "      </script>\n",
              "    </div>\n",
              "  </div>\n",
              "  "
            ]
          },
          "metadata": {},
          "execution_count": 30
        }
      ]
    },
    {
      "cell_type": "code",
      "source": [
        "list(df.columns)"
      ],
      "metadata": {
        "colab": {
          "base_uri": "https://localhost:8080/"
        },
        "id": "1al0OCfiXsds",
        "outputId": "ae45ad1f-df55-4aad-e0bd-4ccb7142c309"
      },
      "execution_count": 38,
      "outputs": [
        {
          "output_type": "execute_result",
          "data": {
            "text/plain": [
              "['1st_Flr_SF',\n",
              " 'Bedroom_AbvGr',\n",
              " 'Bldg_Type',\n",
              " 'Bsmt_Full_Bath',\n",
              " 'Bsmt_Half_Bath',\n",
              " 'Central_Air',\n",
              " 'Condition_1',\n",
              " 'Condition_2',\n",
              " 'Electrical',\n",
              " 'Exter_Cond',\n",
              " 'Exter_Qual',\n",
              " 'Exterior_1st',\n",
              " 'Exterior_2nd',\n",
              " 'Foundation',\n",
              " 'Full_Bath',\n",
              " 'Functional',\n",
              " 'Gr_Liv_Area',\n",
              " 'Half_Bath',\n",
              " 'Heating',\n",
              " 'Heating_QC',\n",
              " 'House_Style',\n",
              " 'Kitchen_AbvGr',\n",
              " 'Kitchen_Qual',\n",
              " 'Land_Contour',\n",
              " 'Land_Slope',\n",
              " 'Lot_Area',\n",
              " 'Lot_Config',\n",
              " 'Lot_Shape',\n",
              " 'MS_SubClass',\n",
              " 'MS_Zoning',\n",
              " 'Mas_Vnr_Type',\n",
              " 'Mo_Sold',\n",
              " 'Neighborhood',\n",
              " 'Overall_Cond',\n",
              " 'Overall_Qual',\n",
              " 'Paved_Drive',\n",
              " 'Roof_Matl',\n",
              " 'Roof_Style',\n",
              " 'SalePrice',\n",
              " 'Sale_Condition',\n",
              " 'Sale_Type',\n",
              " 'Street',\n",
              " 'TotRms_AbvGrd',\n",
              " 'Utilities',\n",
              " 'Year_Built',\n",
              " 'Year_Remod/Add']"
            ]
          },
          "metadata": {},
          "execution_count": 38
        }
      ]
    },
    {
      "cell_type": "code",
      "source": [
        "df['Condition_1'].value_counts()"
      ],
      "metadata": {
        "colab": {
          "base_uri": "https://localhost:8080/"
        },
        "id": "3xRWpD9eWgaL",
        "outputId": "7030701d-7f95-4733-ae8d-b4270aade6d6"
      },
      "execution_count": 31,
      "outputs": [
        {
          "output_type": "execute_result",
          "data": {
            "text/plain": [
              "Norm      2209\n",
              "Feedr      142\n",
              "Artery      77\n",
              "RRAn        46\n",
              "PosN        36\n",
              "RRAe        25\n",
              "PosA        17\n",
              "RRNn         8\n",
              "RRNe         4\n",
              "Name: Condition_1, dtype: int64"
            ]
          },
          "metadata": {},
          "execution_count": 31
        }
      ]
    },
    {
      "cell_type": "code",
      "execution_count": 20,
      "metadata": {
        "deletable": false,
        "nbgrader": {
          "cell_type": "code",
          "checksum": "0c2faccf61831b14df7ab3c03e64a33b",
          "grade": false,
          "grade_id": "cell-10ea192c7e6ee9de",
          "locked": false,
          "schema_version": 3,
          "solution": true,
          "task": false
        },
        "id": "dDhyq5SDEDku",
        "colab": {
          "base_uri": "https://localhost:8080/",
          "height": 415
        },
        "outputId": "e40be71c-9488-4b73-9bda-47769dc02863"
      },
      "outputs": [
        {
          "output_type": "stream",
          "name": "stderr",
          "text": [
            "/usr/local/lib/python3.8/dist-packages/sklearn/base.py:443: UserWarning: X has feature names, but LinearRegression was fitted without feature names\n",
            "  warnings.warn(\n"
          ]
        },
        {
          "output_type": "error",
          "ename": "ValueError",
          "evalue": "ignored",
          "traceback": [
            "\u001b[0;31m---------------------------------------------------------------------------\u001b[0m",
            "\u001b[0;31mValueError\u001b[0m                                Traceback (most recent call last)",
            "\u001b[0;32m<ipython-input-20-b60cb3bbc6de>\u001b[0m in \u001b[0;36m<module>\u001b[0;34m\u001b[0m\n\u001b[1;32m      1\u001b[0m \u001b[0;34m'''T8: Compare model metrics, MAE.'''\u001b[0m\u001b[0;34m\u001b[0m\u001b[0;34m\u001b[0m\u001b[0m\n\u001b[1;32m      2\u001b[0m \u001b[0;31m# YOUR CODE HERE\u001b[0m\u001b[0;34m\u001b[0m\u001b[0;34m\u001b[0m\u001b[0;34m\u001b[0m\u001b[0m\n\u001b[0;32m----> 3\u001b[0;31m \u001b[0mmodel_lr_training_mae\u001b[0m \u001b[0;34m=\u001b[0m \u001b[0mmean_absolute_error\u001b[0m\u001b[0;34m(\u001b[0m\u001b[0my_train\u001b[0m\u001b[0;34m,\u001b[0m \u001b[0mmodel_lr\u001b[0m\u001b[0;34m.\u001b[0m\u001b[0mnamed_steps\u001b[0m\u001b[0;34m[\u001b[0m\u001b[0;34m'linearregression'\u001b[0m\u001b[0;34m]\u001b[0m\u001b[0;34m.\u001b[0m\u001b[0mpredict\u001b[0m\u001b[0;34m(\u001b[0m\u001b[0mX_train\u001b[0m\u001b[0;34m)\u001b[0m\u001b[0;34m)\u001b[0m\u001b[0;34m\u001b[0m\u001b[0;34m\u001b[0m\u001b[0m\n\u001b[0m\u001b[1;32m      4\u001b[0m \u001b[0;34m\u001b[0m\u001b[0m\n\u001b[1;32m      5\u001b[0m \u001b[0mprint\u001b[0m\u001b[0;34m(\u001b[0m\u001b[0;34m'Linear Regression Model'\u001b[0m\u001b[0;34m)\u001b[0m\u001b[0;34m\u001b[0m\u001b[0;34m\u001b[0m\u001b[0m\n",
            "\u001b[0;32m/usr/local/lib/python3.8/dist-packages/sklearn/linear_model/_base.py\u001b[0m in \u001b[0;36mpredict\u001b[0;34m(self, X)\u001b[0m\n\u001b[1;32m    360\u001b[0m             \u001b[0mReturns\u001b[0m \u001b[0mpredicted\u001b[0m \u001b[0mvalues\u001b[0m\u001b[0;34m.\u001b[0m\u001b[0;34m\u001b[0m\u001b[0;34m\u001b[0m\u001b[0m\n\u001b[1;32m    361\u001b[0m         \"\"\"\n\u001b[0;32m--> 362\u001b[0;31m         \u001b[0;32mreturn\u001b[0m \u001b[0mself\u001b[0m\u001b[0;34m.\u001b[0m\u001b[0m_decision_function\u001b[0m\u001b[0;34m(\u001b[0m\u001b[0mX\u001b[0m\u001b[0;34m)\u001b[0m\u001b[0;34m\u001b[0m\u001b[0;34m\u001b[0m\u001b[0m\n\u001b[0m\u001b[1;32m    363\u001b[0m \u001b[0;34m\u001b[0m\u001b[0m\n\u001b[1;32m    364\u001b[0m     \u001b[0m_preprocess_data\u001b[0m \u001b[0;34m=\u001b[0m \u001b[0mstaticmethod\u001b[0m\u001b[0;34m(\u001b[0m\u001b[0m_preprocess_data\u001b[0m\u001b[0;34m)\u001b[0m\u001b[0;34m\u001b[0m\u001b[0;34m\u001b[0m\u001b[0m\n",
            "\u001b[0;32m/usr/local/lib/python3.8/dist-packages/sklearn/linear_model/_base.py\u001b[0m in \u001b[0;36m_decision_function\u001b[0;34m(self, X)\u001b[0m\n\u001b[1;32m    343\u001b[0m         \u001b[0mcheck_is_fitted\u001b[0m\u001b[0;34m(\u001b[0m\u001b[0mself\u001b[0m\u001b[0;34m)\u001b[0m\u001b[0;34m\u001b[0m\u001b[0;34m\u001b[0m\u001b[0m\n\u001b[1;32m    344\u001b[0m \u001b[0;34m\u001b[0m\u001b[0m\n\u001b[0;32m--> 345\u001b[0;31m         \u001b[0mX\u001b[0m \u001b[0;34m=\u001b[0m \u001b[0mself\u001b[0m\u001b[0;34m.\u001b[0m\u001b[0m_validate_data\u001b[0m\u001b[0;34m(\u001b[0m\u001b[0mX\u001b[0m\u001b[0;34m,\u001b[0m \u001b[0maccept_sparse\u001b[0m\u001b[0;34m=\u001b[0m\u001b[0;34m[\u001b[0m\u001b[0;34m\"csr\"\u001b[0m\u001b[0;34m,\u001b[0m \u001b[0;34m\"csc\"\u001b[0m\u001b[0;34m,\u001b[0m \u001b[0;34m\"coo\"\u001b[0m\u001b[0;34m]\u001b[0m\u001b[0;34m,\u001b[0m \u001b[0mreset\u001b[0m\u001b[0;34m=\u001b[0m\u001b[0;32mFalse\u001b[0m\u001b[0;34m)\u001b[0m\u001b[0;34m\u001b[0m\u001b[0;34m\u001b[0m\u001b[0m\n\u001b[0m\u001b[1;32m    346\u001b[0m         \u001b[0;32mreturn\u001b[0m \u001b[0msafe_sparse_dot\u001b[0m\u001b[0;34m(\u001b[0m\u001b[0mX\u001b[0m\u001b[0;34m,\u001b[0m \u001b[0mself\u001b[0m\u001b[0;34m.\u001b[0m\u001b[0mcoef_\u001b[0m\u001b[0;34m.\u001b[0m\u001b[0mT\u001b[0m\u001b[0;34m,\u001b[0m \u001b[0mdense_output\u001b[0m\u001b[0;34m=\u001b[0m\u001b[0;32mTrue\u001b[0m\u001b[0;34m)\u001b[0m \u001b[0;34m+\u001b[0m \u001b[0mself\u001b[0m\u001b[0;34m.\u001b[0m\u001b[0mintercept_\u001b[0m\u001b[0;34m\u001b[0m\u001b[0;34m\u001b[0m\u001b[0m\n\u001b[1;32m    347\u001b[0m \u001b[0;34m\u001b[0m\u001b[0m\n",
            "\u001b[0;32m/usr/local/lib/python3.8/dist-packages/sklearn/base.py\u001b[0m in \u001b[0;36m_validate_data\u001b[0;34m(self, X, y, reset, validate_separately, **check_params)\u001b[0m\n\u001b[1;32m    564\u001b[0m             \u001b[0;32mraise\u001b[0m \u001b[0mValueError\u001b[0m\u001b[0;34m(\u001b[0m\u001b[0;34m\"Validation should be done on X, y or both.\"\u001b[0m\u001b[0;34m)\u001b[0m\u001b[0;34m\u001b[0m\u001b[0;34m\u001b[0m\u001b[0m\n\u001b[1;32m    565\u001b[0m         \u001b[0;32melif\u001b[0m \u001b[0;32mnot\u001b[0m \u001b[0mno_val_X\u001b[0m \u001b[0;32mand\u001b[0m \u001b[0mno_val_y\u001b[0m\u001b[0;34m:\u001b[0m\u001b[0;34m\u001b[0m\u001b[0;34m\u001b[0m\u001b[0m\n\u001b[0;32m--> 566\u001b[0;31m             \u001b[0mX\u001b[0m \u001b[0;34m=\u001b[0m \u001b[0mcheck_array\u001b[0m\u001b[0;34m(\u001b[0m\u001b[0mX\u001b[0m\u001b[0;34m,\u001b[0m \u001b[0;34m**\u001b[0m\u001b[0mcheck_params\u001b[0m\u001b[0;34m)\u001b[0m\u001b[0;34m\u001b[0m\u001b[0;34m\u001b[0m\u001b[0m\n\u001b[0m\u001b[1;32m    567\u001b[0m             \u001b[0mout\u001b[0m \u001b[0;34m=\u001b[0m \u001b[0mX\u001b[0m\u001b[0;34m\u001b[0m\u001b[0;34m\u001b[0m\u001b[0m\n\u001b[1;32m    568\u001b[0m         \u001b[0;32melif\u001b[0m \u001b[0mno_val_X\u001b[0m \u001b[0;32mand\u001b[0m \u001b[0;32mnot\u001b[0m \u001b[0mno_val_y\u001b[0m\u001b[0;34m:\u001b[0m\u001b[0;34m\u001b[0m\u001b[0;34m\u001b[0m\u001b[0m\n",
            "\u001b[0;32m/usr/local/lib/python3.8/dist-packages/sklearn/utils/validation.py\u001b[0m in \u001b[0;36mcheck_array\u001b[0;34m(array, accept_sparse, accept_large_sparse, dtype, order, copy, force_all_finite, ensure_2d, allow_nd, ensure_min_samples, ensure_min_features, estimator)\u001b[0m\n\u001b[1;32m    744\u001b[0m                     \u001b[0marray\u001b[0m \u001b[0;34m=\u001b[0m \u001b[0marray\u001b[0m\u001b[0;34m.\u001b[0m\u001b[0mastype\u001b[0m\u001b[0;34m(\u001b[0m\u001b[0mdtype\u001b[0m\u001b[0;34m,\u001b[0m \u001b[0mcasting\u001b[0m\u001b[0;34m=\u001b[0m\u001b[0;34m\"unsafe\"\u001b[0m\u001b[0;34m,\u001b[0m \u001b[0mcopy\u001b[0m\u001b[0;34m=\u001b[0m\u001b[0;32mFalse\u001b[0m\u001b[0;34m)\u001b[0m\u001b[0;34m\u001b[0m\u001b[0;34m\u001b[0m\u001b[0m\n\u001b[1;32m    745\u001b[0m                 \u001b[0;32melse\u001b[0m\u001b[0;34m:\u001b[0m\u001b[0;34m\u001b[0m\u001b[0;34m\u001b[0m\u001b[0m\n\u001b[0;32m--> 746\u001b[0;31m                     \u001b[0marray\u001b[0m \u001b[0;34m=\u001b[0m \u001b[0mnp\u001b[0m\u001b[0;34m.\u001b[0m\u001b[0masarray\u001b[0m\u001b[0;34m(\u001b[0m\u001b[0marray\u001b[0m\u001b[0;34m,\u001b[0m \u001b[0morder\u001b[0m\u001b[0;34m=\u001b[0m\u001b[0morder\u001b[0m\u001b[0;34m,\u001b[0m \u001b[0mdtype\u001b[0m\u001b[0;34m=\u001b[0m\u001b[0mdtype\u001b[0m\u001b[0;34m)\u001b[0m\u001b[0;34m\u001b[0m\u001b[0;34m\u001b[0m\u001b[0m\n\u001b[0m\u001b[1;32m    747\u001b[0m             \u001b[0;32mexcept\u001b[0m \u001b[0mComplexWarning\u001b[0m \u001b[0;32mas\u001b[0m \u001b[0mcomplex_warning\u001b[0m\u001b[0;34m:\u001b[0m\u001b[0;34m\u001b[0m\u001b[0;34m\u001b[0m\u001b[0m\n\u001b[1;32m    748\u001b[0m                 raise ValueError(\n",
            "\u001b[0;32m/usr/local/lib/python3.8/dist-packages/pandas/core/generic.py\u001b[0m in \u001b[0;36m__array__\u001b[0;34m(self, dtype)\u001b[0m\n\u001b[1;32m   1991\u001b[0m \u001b[0;34m\u001b[0m\u001b[0m\n\u001b[1;32m   1992\u001b[0m     \u001b[0;32mdef\u001b[0m \u001b[0m__array__\u001b[0m\u001b[0;34m(\u001b[0m\u001b[0mself\u001b[0m\u001b[0;34m,\u001b[0m \u001b[0mdtype\u001b[0m\u001b[0;34m:\u001b[0m \u001b[0mNpDtype\u001b[0m \u001b[0;34m|\u001b[0m \u001b[0;32mNone\u001b[0m \u001b[0;34m=\u001b[0m \u001b[0;32mNone\u001b[0m\u001b[0;34m)\u001b[0m \u001b[0;34m->\u001b[0m \u001b[0mnp\u001b[0m\u001b[0;34m.\u001b[0m\u001b[0mndarray\u001b[0m\u001b[0;34m:\u001b[0m\u001b[0;34m\u001b[0m\u001b[0;34m\u001b[0m\u001b[0m\n\u001b[0;32m-> 1993\u001b[0;31m         \u001b[0;32mreturn\u001b[0m \u001b[0mnp\u001b[0m\u001b[0;34m.\u001b[0m\u001b[0masarray\u001b[0m\u001b[0;34m(\u001b[0m\u001b[0mself\u001b[0m\u001b[0;34m.\u001b[0m\u001b[0m_values\u001b[0m\u001b[0;34m,\u001b[0m \u001b[0mdtype\u001b[0m\u001b[0;34m=\u001b[0m\u001b[0mdtype\u001b[0m\u001b[0;34m)\u001b[0m\u001b[0;34m\u001b[0m\u001b[0;34m\u001b[0m\u001b[0m\n\u001b[0m\u001b[1;32m   1994\u001b[0m \u001b[0;34m\u001b[0m\u001b[0m\n\u001b[1;32m   1995\u001b[0m     def __array_wrap__(\n",
            "\u001b[0;31mValueError\u001b[0m: could not convert string to float: '1Fam'"
          ]
        }
      ],
      "source": [
        "'''T8: Compare model metrics, MAE.'''\n",
        "# YOUR CODE HERE\n",
        "model_lr_training_mae = mean_absolute_error(y_train, model_lr.named_steps['linearregression'].predict(X_train))\n",
        "\n",
        "print('Linear Regression Model')\n",
        "print('Training MAE:', model_lr_training_mae)\n",
        "print('Validation MAE:', model_lr_validation_mae)\n",
        "print()\n",
        "print('Ridge Regression Model')\n",
        "print('Training MAE:', model_r_training_mae)\n",
        "print('Validation MAE:', model_r_validation_mae)"
      ]
    },
    {
      "cell_type": "markdown",
      "metadata": {
        "deletable": false,
        "editable": false,
        "nbgrader": {
          "cell_type": "markdown",
          "checksum": "0d253121492c2cdb1eced8eed2776b35",
          "grade": false,
          "grade_id": "cell-2ec63ac76b9a8d09",
          "locked": true,
          "schema_version": 3,
          "solution": false,
          "task": false
        },
        "id": "h_tHccy_EDku"
      },
      "source": [
        "**Task 8 Testing**"
      ]
    },
    {
      "cell_type": "code",
      "execution_count": 32,
      "metadata": {
        "deletable": false,
        "editable": false,
        "nbgrader": {
          "cell_type": "code",
          "checksum": "865bfca633e9cfd2c5dd0adac5b5a183",
          "grade": true,
          "grade_id": "cell-e467cc19a51d9a41",
          "locked": true,
          "points": 1,
          "schema_version": 3,
          "solution": false,
          "task": false
        },
        "id": "TZ8rV_rxEDku",
        "colab": {
          "base_uri": "https://localhost:8080/",
          "height": 235
        },
        "outputId": "9548ab77-cad5-4e21-baab-62e14e6f731a"
      },
      "outputs": [
        {
          "output_type": "error",
          "ename": "NameError",
          "evalue": "ignored",
          "traceback": [
            "\u001b[0;31m---------------------------------------------------------------------------\u001b[0m",
            "\u001b[0;31mNameError\u001b[0m                                 Traceback (most recent call last)",
            "\u001b[0;32m<ipython-input-32-5d7760038a10>\u001b[0m in \u001b[0;36m<module>\u001b[0;34m\u001b[0m\n\u001b[1;32m      1\u001b[0m \u001b[0;34m'''T8 Tests'''\u001b[0m\u001b[0;34m\u001b[0m\u001b[0;34m\u001b[0m\u001b[0m\n\u001b[0;32m----> 2\u001b[0;31m \u001b[0;32massert\u001b[0m \u001b[0misinstance\u001b[0m\u001b[0;34m(\u001b[0m\u001b[0mmodel_lr_training_mae\u001b[0m\u001b[0;34m,\u001b[0m \u001b[0mfloat\u001b[0m\u001b[0;34m)\u001b[0m\u001b[0;34m,\u001b[0m \u001b[0;34m'`model_lr_training_mae` is not a float. Did you assign a value to this variable?'\u001b[0m\u001b[0;34m\u001b[0m\u001b[0;34m\u001b[0m\u001b[0m\n\u001b[0m\u001b[1;32m      3\u001b[0m \u001b[0;32massert\u001b[0m \u001b[0misinstance\u001b[0m\u001b[0;34m(\u001b[0m\u001b[0mmodel_lr_validation_mae\u001b[0m\u001b[0;34m,\u001b[0m \u001b[0mfloat\u001b[0m\u001b[0;34m)\u001b[0m\u001b[0;34m,\u001b[0m \u001b[0;34m'`model_lr_validation_mae` is not a float. Did you assign a value to this variable?'\u001b[0m\u001b[0;34m\u001b[0m\u001b[0;34m\u001b[0m\u001b[0m\n\u001b[1;32m      4\u001b[0m \u001b[0;32massert\u001b[0m \u001b[0misinstance\u001b[0m\u001b[0;34m(\u001b[0m\u001b[0mmodel_r_training_mae\u001b[0m\u001b[0;34m,\u001b[0m \u001b[0mfloat\u001b[0m\u001b[0;34m)\u001b[0m\u001b[0;34m,\u001b[0m \u001b[0;34m'`model_r_training_mae` is not a float. Did you assign a value to this variable?'\u001b[0m\u001b[0;34m\u001b[0m\u001b[0;34m\u001b[0m\u001b[0m\n\u001b[1;32m      5\u001b[0m \u001b[0;32massert\u001b[0m \u001b[0misinstance\u001b[0m\u001b[0;34m(\u001b[0m\u001b[0mmodel_r_validation_mae\u001b[0m\u001b[0;34m,\u001b[0m \u001b[0mfloat\u001b[0m\u001b[0;34m)\u001b[0m\u001b[0;34m,\u001b[0m \u001b[0;34m'`model_r_validation_mae` is not a float. Did you assign a value to this variable?'\u001b[0m\u001b[0;34m\u001b[0m\u001b[0;34m\u001b[0m\u001b[0m\n",
            "\u001b[0;31mNameError\u001b[0m: name 'model_lr_training_mae' is not defined"
          ]
        }
      ],
      "source": [
        "'''T8 Tests'''\n",
        "assert isinstance(model_lr_training_mae, float), '`model_lr_training_mae` is not a float. Did you assign a value to this variable?'\n",
        "assert isinstance(model_lr_validation_mae, float), '`model_lr_validation_mae` is not a float. Did you assign a value to this variable?'\n",
        "assert isinstance(model_r_training_mae, float), '`model_r_training_mae` is not a float. Did you assign a value to this variable?'\n",
        "assert isinstance(model_r_validation_mae, float), '`model_r_validation_mae` is not a float. Did you assign a value to this variable?'"
      ]
    },
    {
      "cell_type": "markdown",
      "metadata": {
        "deletable": false,
        "editable": false,
        "nbgrader": {
          "cell_type": "markdown",
          "checksum": "cfd848fa6845b865766fdacba122f739",
          "grade": false,
          "grade_id": "cell-0299e563a01e1b52",
          "locked": true,
          "schema_version": 3,
          "solution": false,
          "task": false
        },
        "id": "lLg6bSyXEDku"
      },
      "source": [
        "**Task 9:** Compare your two models by calculating their $R^2$ score for the **validation data**."
      ]
    },
    {
      "cell_type": "code",
      "execution_count": null,
      "metadata": {
        "deletable": false,
        "nbgrader": {
          "cell_type": "code",
          "checksum": "194fd47bb0c692386205a20dce6d0ebd",
          "grade": false,
          "grade_id": "cell-92d55f4de3bb7f31",
          "locked": false,
          "schema_version": 3,
          "solution": true,
          "task": false
        },
        "id": "NO_992IDEDkv"
      },
      "outputs": [],
      "source": [
        "'''T9: Compare model metrics, R^2.'''\n",
        "# YOUR CODE HERE\n",
        "raise NotImplementedError()\n",
        "print('Linear Regression R^2:', model_lr_r2_score)\n",
        "print('Ridge Regression R^2:', model_r_r2_score)"
      ]
    },
    {
      "cell_type": "markdown",
      "metadata": {
        "deletable": false,
        "editable": false,
        "nbgrader": {
          "cell_type": "markdown",
          "checksum": "cdab1c4db0fa73faa3accb9a7f45c538",
          "grade": false,
          "grade_id": "cell-3b4914d6284ec6da",
          "locked": true,
          "schema_version": 3,
          "solution": false,
          "task": false
        },
        "id": "t3_m047CEDkv"
      },
      "source": [
        "**Task 9 Testing**"
      ]
    },
    {
      "cell_type": "code",
      "execution_count": null,
      "metadata": {
        "deletable": false,
        "editable": false,
        "nbgrader": {
          "cell_type": "code",
          "checksum": "9f96edc1cb343a3135e61e9657a73a32",
          "grade": true,
          "grade_id": "cell-7b79f2550b912074",
          "locked": true,
          "points": 1,
          "schema_version": 3,
          "solution": false,
          "task": false
        },
        "id": "VPTkokwcEDkv"
      },
      "outputs": [],
      "source": [
        "'''T9 Tests'''\n",
        "assert isinstance(model_lr_r2_score, float), '`model_lr_r2_score` is not a float. Did you assign a value to this variable?'\n",
        "assert isinstance(model_r_r2_score, float), '`model_r_r2_score` is not a float. Did you assign a value to this variable?'\n",
        "assert model_lr_r2_score <= 1, 'The maximum value for an R^2 score is 1.'\n",
        "assert model_r_r2_score <= 1, 'The maximum value for an R^2 score is 1.'"
      ]
    },
    {
      "cell_type": "markdown",
      "metadata": {
        "id": "aagcKOM0EDkv"
      },
      "source": [
        "**Task 10:** Based on the metrics above, choose the best of your two models and generate an array of predictions `y_pred` using the test set below.\n",
        "\n",
        "**Note:** Make sure that you import and clean the test set *exactly the same way* you did with the training set at the start of this notebook."
      ]
    },
    {
      "cell_type": "code",
      "execution_count": null,
      "metadata": {
        "deletable": false,
        "nbgrader": {
          "cell_type": "code",
          "checksum": "e72becd77504ec4f4855ef07c4b7edfb",
          "grade": false,
          "grade_id": "cell-87695ab01935fdd9",
          "locked": false,
          "schema_version": 3,
          "solution": true,
          "task": false
        },
        "id": "D0mhTFqsEDkv"
      },
      "outputs": [],
      "source": [
        "url_test = 'https://drive.google.com/uc?export=download&id=1y9u8cOWprTjruw8E-ct1c7YaEytToqd_'\n",
        "X_test = pd.read_csv(url_test)\n",
        "\n",
        "# YOUR CODE HERE\n",
        "raise NotImplementedError()\n",
        "print('My predictions:', y_pred[:3])"
      ]
    },
    {
      "cell_type": "markdown",
      "metadata": {
        "deletable": false,
        "editable": false,
        "nbgrader": {
          "cell_type": "markdown",
          "checksum": "a80a31eaf092ba24ab86f6d5e1ec9494",
          "grade": false,
          "grade_id": "cell-94a472804463b225",
          "locked": true,
          "schema_version": 3,
          "solution": false,
          "task": false
        },
        "id": "UPDLtuuDEDkw"
      },
      "source": [
        "**Task 10 Testing:** There is a hidden test in the cell below. When you submit your notebook to Canvas, your test MAE will be calculated. In order to get the point for this task, your test MAE must be below 58,000.\n",
        "\n",
        "**Tip:** Use your validation MAE to estimate what your test MAE will be."
      ]
    },
    {
      "cell_type": "code",
      "execution_count": null,
      "metadata": {
        "deletable": false,
        "editable": false,
        "nbgrader": {
          "cell_type": "code",
          "checksum": "8db84fc1232302dcfbccf4dba2c3221e",
          "grade": true,
          "grade_id": "cell-c3c94d263dabfe02",
          "locked": true,
          "points": 1,
          "schema_version": 3,
          "solution": false,
          "task": false
        },
        "id": "G1zqaOFGEDkw"
      },
      "outputs": [],
      "source": [
        "import numpy as np\n",
        "assert isinstance(y_pred, np.ndarray), '`y_pred` should be type `ndarray`.'\n",
        "assert y_pred.shape == (340,), '`y_pred` should be a 1-dimentional array with 340 predictions.'\n",
        "# Your test MAE will be printed out below when you submit your assignment."
      ]
    },
    {
      "cell_type": "markdown",
      "metadata": {
        "deletable": false,
        "editable": false,
        "nbgrader": {
          "cell_type": "markdown",
          "checksum": "c07fa550b9f9172838d15922e90af360",
          "grade": false,
          "grade_id": "cell-281a86aa67d353e9",
          "locked": true,
          "schema_version": 3,
          "solution": false,
          "task": false
        },
        "id": "FD2edOTtEDkw"
      },
      "source": [
        "**Task 11 (`stretch goal`):** There's no code to write for this task. Below is another testing cell that will calculate the MAE for your test set. In order to get the point for this task, your test MAE must be below 18,000.\n",
        "\n",
        "**Tip:** Are there any **hyperparameters** in your model that you could adjust to improve performance? "
      ]
    },
    {
      "cell_type": "code",
      "execution_count": null,
      "metadata": {
        "deletable": false,
        "editable": false,
        "nbgrader": {
          "cell_type": "code",
          "checksum": "6f15243aec0804a52d4fad54dd6de4a9",
          "grade": true,
          "grade_id": "cell-40815d96e2a2adf9",
          "locked": true,
          "points": 0,
          "schema_version": 3,
          "solution": false,
          "task": false
        },
        "id": "zMZduIJ1EDkw"
      },
      "outputs": [],
      "source": [
        "assert isinstance(y_pred, np.ndarray), '`y_pred` should be type `ndarray`.'\n",
        "assert y_pred.shape == (340,), '`y_pred` should be a 1-dimentional array with 340 predictions.'\n",
        "# Your test MAE will be printed out below when you submit your assignment."
      ]
    },
    {
      "cell_type": "markdown",
      "metadata": {
        "deletable": false,
        "editable": false,
        "nbgrader": {
          "cell_type": "markdown",
          "checksum": "d844c40823ca7038b76494524f632bd8",
          "grade": false,
          "grade_id": "cell-e724aba3fc221134",
          "locked": true,
          "schema_version": 3,
          "solution": false,
          "task": false
        },
        "id": "VEvcQkYsEDkw"
      },
      "source": [
        "## VI. Explain Model\n",
        "\n",
        "**Task 12 (`stretch goal`):** Create a horizontal barchart for your best performing model that shows the ten most important features for the model's predictions. Don't forget to label your axes!\n",
        "\n",
        "This task will not be autograded - but it is part of completing the challenge."
      ]
    },
    {
      "cell_type": "code",
      "execution_count": null,
      "metadata": {
        "deletable": false,
        "nbgrader": {
          "cell_type": "code",
          "checksum": "22360b5fca505bd10654fae809bf2797",
          "grade": false,
          "grade_id": "cell-ebd0b1ea2eab31c6",
          "locked": false,
          "schema_version": 3,
          "solution": true,
          "task": false
        },
        "id": "BvSVofMLEDkw"
      },
      "outputs": [],
      "source": [
        "# YOUR CODE HERE\n",
        "raise NotImplementedError()"
      ]
    }
  ],
  "metadata": {
    "colab": {
      "name": "DS_Sprint_Challenge_5.ipynb",
      "provenance": []
    },
    "kernelspec": {
      "display_name": "Python 3",
      "language": "python",
      "name": "python3"
    },
    "language_info": {
      "codemirror_mode": {
        "name": "ipython",
        "version": 3
      },
      "file_extension": ".py",
      "mimetype": "text/x-python",
      "name": "python",
      "nbconvert_exporter": "python",
      "pygments_lexer": "ipython3",
      "version": "3.8.8"
    }
  },
  "nbformat": 4,
  "nbformat_minor": 0
}