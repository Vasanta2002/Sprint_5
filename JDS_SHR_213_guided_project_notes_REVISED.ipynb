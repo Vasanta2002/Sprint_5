{
  "nbformat": 4,
  "nbformat_minor": 0,
  "metadata": {
    "colab": {
      "provenance": [],
      "include_colab_link": true
    },
    "kernelspec": {
      "name": "python3",
      "display_name": "Python 3"
    }
  },
  "cells": [
    {
      "cell_type": "markdown",
      "metadata": {
        "id": "view-in-github",
        "colab_type": "text"
      },
      "source": [
        "<a href=\"https://colab.research.google.com/github/Vasanta2002/Sprint_5/blob/main/JDS_SHR_213_guided_project_notes_REVISED.ipynb\" target=\"_parent\"><img src=\"https://colab.research.google.com/assets/colab-badge.svg\" alt=\"Open In Colab\"/></a>"
      ]
    },
    {
      "cell_type": "markdown",
      "metadata": {
        "id": "RUhphDysw-6P"
      },
      "source": [
        "## BloomTech Data Science\n",
        "\n",
        "---\n"
      ]
    },
    {
      "cell_type": "markdown",
      "metadata": {
        "id": "hWwKhrPZ6eOZ"
      },
      "source": [
        "# Ridge Regression\n",
        "- Do one-hot encoding of categorical features\n",
        "- Use scikit-learn to fit Ridge Regression models\n",
        "\n"
      ]
    },
    {
      "cell_type": "code",
      "metadata": {
        "id": "k0dvbuCzd5qK"
      },
      "source": [
        " # Model Building\n",
        "\n",
        "from sklearn.linear_model import LinearRegression, Ridge\n",
        "from sklearn.metrics import mean_absolute_error, mean_squared_error\n",
        "from sklearn.pipeline import make_pipeline\n",
        "import numpy as np\n",
        "import matplotlib.pyplot as plt\n",
        "import pandas as pd\n",
        "\n",
        "# For running this notebook either locally or in colab\n",
        "import sys"
      ],
      "execution_count": null,
      "outputs": []
    },
    {
      "cell_type": "code",
      "metadata": {
        "id": "wz7tyC22gLEA"
      },
      "source": [
        "%%capture\n",
        "# If you're on Colab:\n",
        "if 'google.colab' in sys.modules:\n",
        "    DATA_PATH = 'https://raw.githubusercontent.com/LambdaSchool/DS-Unit-2-Applied-Modeling/master/data/'\n",
        "    !pip install category_encoders==2.*\n",
        "\n",
        "# If you're working locally:\n",
        "else:\n",
        "    DATA_PATH = '../data/'"
      ],
      "execution_count": null,
      "outputs": []
    },
    {
      "cell_type": "code",
      "metadata": {
        "id": "eK1JmTLj8wFC"
      },
      "source": [
        "# For encoding categorical data\n",
        "from category_encoders import OneHotEncoder"
      ],
      "execution_count": null,
      "outputs": []
    },
    {
      "cell_type": "markdown",
      "metadata": {
        "id": "c9XvBGFMguJ1"
      },
      "source": [
        "# NYC Rent\n",
        "\n",
        "**GOAL:** Improve our model for predicting NYC rent prices.\n",
        "\n",
        "**Objectives**\n",
        "\n",
        "- Do one-hot encoding of categorical features\n",
        "- Do univariate feature selection\n",
        "- Use scikit-learn to fit Ridge Regression models"
      ]
    },
    {
      "cell_type": "markdown",
      "metadata": {
        "id": "0kaV7oNahJLj"
      },
      "source": [
        "# I. Wrangle Data"
      ]
    },
    {
      "cell_type": "markdown",
      "metadata": {
        "id": "iOecYDRyx5m-"
      },
      "source": [
        "Create **wrangle function** for **reproducibility**."
      ]
    },
    {
      "cell_type": "code",
      "metadata": {
        "id": "m9Dm3h3Ux5AI"
      },
      "source": [
        "def wrangle(filepath):\n",
        "  df = pd.read_csv(filepath,\n",
        "                   parse_dates=['created'],\n",
        "                   index_col='created').sort_index()\n",
        "  \n",
        "  # Remove outlier observations\n",
        "  df = df[(df['price'] >= np.percentile(df['price'], 0.05)) & \n",
        "          (df['price'] <= np.percentile(df['price'], 99.5)) & \n",
        "          (df['latitude'] >= np.percentile(df['latitude'], 0.05)) & \n",
        "          (df['latitude'] < np.percentile(df['latitude'], 99.95)) &\n",
        "          (df['longitude'] >= np.percentile(df['longitude'], 0.05)) & \n",
        "          (df['longitude'] <= np.percentile(df['longitude'], 99.95))]\n",
        "\n",
        "  # Drop high-cardinality categorical variables\n",
        "  cutoff = 5\n",
        "  drop_cols = [col for col in df.select_dtypes('object').columns\n",
        "              if df[col].nunique() > cutoff]\n",
        "  df.drop(columns=drop_cols, inplace=True)\n",
        "\n",
        "  return df\n",
        "\n",
        "df = wrangle(DATA_PATH+'apartments/renthop-nyc.csv')"
      ],
      "execution_count": null,
      "outputs": []
    },
    {
      "cell_type": "code",
      "metadata": {
        "id": "_FkzVFxrX40L",
        "colab": {
          "base_uri": "https://localhost:8080/",
          "height": 504
        },
        "outputId": "345e415c-827d-489c-9f68-cd5f6cc44002"
      },
      "source": [
        "df.head()"
      ],
      "execution_count": null,
      "outputs": [
        {
          "output_type": "execute_result",
          "data": {
            "text/plain": [
              "                     bathrooms  bedrooms  latitude  longitude  price  \\\n",
              "created                                                                \n",
              "2016-04-01 22:12:41        1.0         1   40.7302   -73.9924   3195   \n",
              "2016-04-01 22:56:00        1.0         0   40.7576   -73.9677   2000   \n",
              "2016-04-01 22:57:15        2.0         3   40.7388   -73.9851   5850   \n",
              "2016-04-01 23:26:07        1.0         1   40.7939   -73.9738   2745   \n",
              "2016-04-02 00:48:13        1.0         1   40.7784   -73.9491   2400   \n",
              "\n",
              "                    interest_level  elevator  cats_allowed  hardwood_floors  \\\n",
              "created                                                                       \n",
              "2016-04-01 22:12:41           high         1             0                0   \n",
              "2016-04-01 22:56:00         medium         0             1                0   \n",
              "2016-04-01 22:57:15           high         1             1                0   \n",
              "2016-04-01 23:26:07         medium         1             1                0   \n",
              "2016-04-02 00:48:13         medium         1             1                0   \n",
              "\n",
              "                     dogs_allowed  ...  high_speed_internet  balcony  \\\n",
              "created                            ...                                 \n",
              "2016-04-01 22:12:41             0  ...                    0        0   \n",
              "2016-04-01 22:56:00             1  ...                    0        0   \n",
              "2016-04-01 22:57:15             1  ...                    0        0   \n",
              "2016-04-01 23:26:07             1  ...                    0        0   \n",
              "2016-04-02 00:48:13             1  ...                    0        0   \n",
              "\n",
              "                     swimming_pool  new_construction  terrace  exclusive  \\\n",
              "created                                                                    \n",
              "2016-04-01 22:12:41              0                 0        0          0   \n",
              "2016-04-01 22:56:00              0                 0        0          0   \n",
              "2016-04-01 22:57:15              0                 0        0          0   \n",
              "2016-04-01 23:26:07              0                 0        0          0   \n",
              "2016-04-02 00:48:13              0                 0        0          0   \n",
              "\n",
              "                     loft  garden_patio  wheelchair_access  \\\n",
              "created                                                      \n",
              "2016-04-01 22:12:41     0             0                  0   \n",
              "2016-04-01 22:56:00     0             0                  0   \n",
              "2016-04-01 22:57:15     0             0                  0   \n",
              "2016-04-01 23:26:07     0             0                  0   \n",
              "2016-04-02 00:48:13     0             0                  0   \n",
              "\n",
              "                     common_outdoor_space  \n",
              "created                                    \n",
              "2016-04-01 22:12:41                     0  \n",
              "2016-04-01 22:56:00                     0  \n",
              "2016-04-01 22:57:15                     1  \n",
              "2016-04-01 23:26:07                     1  \n",
              "2016-04-02 00:48:13                     0  \n",
              "\n",
              "[5 rows x 30 columns]"
            ],
            "text/html": [
              "\n",
              "  <div id=\"df-4201ad9d-a1cd-4469-9800-bb2ea25a4678\">\n",
              "    <div class=\"colab-df-container\">\n",
              "      <div>\n",
              "<style scoped>\n",
              "    .dataframe tbody tr th:only-of-type {\n",
              "        vertical-align: middle;\n",
              "    }\n",
              "\n",
              "    .dataframe tbody tr th {\n",
              "        vertical-align: top;\n",
              "    }\n",
              "\n",
              "    .dataframe thead th {\n",
              "        text-align: right;\n",
              "    }\n",
              "</style>\n",
              "<table border=\"1\" class=\"dataframe\">\n",
              "  <thead>\n",
              "    <tr style=\"text-align: right;\">\n",
              "      <th></th>\n",
              "      <th>bathrooms</th>\n",
              "      <th>bedrooms</th>\n",
              "      <th>latitude</th>\n",
              "      <th>longitude</th>\n",
              "      <th>price</th>\n",
              "      <th>interest_level</th>\n",
              "      <th>elevator</th>\n",
              "      <th>cats_allowed</th>\n",
              "      <th>hardwood_floors</th>\n",
              "      <th>dogs_allowed</th>\n",
              "      <th>...</th>\n",
              "      <th>high_speed_internet</th>\n",
              "      <th>balcony</th>\n",
              "      <th>swimming_pool</th>\n",
              "      <th>new_construction</th>\n",
              "      <th>terrace</th>\n",
              "      <th>exclusive</th>\n",
              "      <th>loft</th>\n",
              "      <th>garden_patio</th>\n",
              "      <th>wheelchair_access</th>\n",
              "      <th>common_outdoor_space</th>\n",
              "    </tr>\n",
              "    <tr>\n",
              "      <th>created</th>\n",
              "      <th></th>\n",
              "      <th></th>\n",
              "      <th></th>\n",
              "      <th></th>\n",
              "      <th></th>\n",
              "      <th></th>\n",
              "      <th></th>\n",
              "      <th></th>\n",
              "      <th></th>\n",
              "      <th></th>\n",
              "      <th></th>\n",
              "      <th></th>\n",
              "      <th></th>\n",
              "      <th></th>\n",
              "      <th></th>\n",
              "      <th></th>\n",
              "      <th></th>\n",
              "      <th></th>\n",
              "      <th></th>\n",
              "      <th></th>\n",
              "      <th></th>\n",
              "    </tr>\n",
              "  </thead>\n",
              "  <tbody>\n",
              "    <tr>\n",
              "      <th>2016-04-01 22:12:41</th>\n",
              "      <td>1.0</td>\n",
              "      <td>1</td>\n",
              "      <td>40.7302</td>\n",
              "      <td>-73.9924</td>\n",
              "      <td>3195</td>\n",
              "      <td>high</td>\n",
              "      <td>1</td>\n",
              "      <td>0</td>\n",
              "      <td>0</td>\n",
              "      <td>0</td>\n",
              "      <td>...</td>\n",
              "      <td>0</td>\n",
              "      <td>0</td>\n",
              "      <td>0</td>\n",
              "      <td>0</td>\n",
              "      <td>0</td>\n",
              "      <td>0</td>\n",
              "      <td>0</td>\n",
              "      <td>0</td>\n",
              "      <td>0</td>\n",
              "      <td>0</td>\n",
              "    </tr>\n",
              "    <tr>\n",
              "      <th>2016-04-01 22:56:00</th>\n",
              "      <td>1.0</td>\n",
              "      <td>0</td>\n",
              "      <td>40.7576</td>\n",
              "      <td>-73.9677</td>\n",
              "      <td>2000</td>\n",
              "      <td>medium</td>\n",
              "      <td>0</td>\n",
              "      <td>1</td>\n",
              "      <td>0</td>\n",
              "      <td>1</td>\n",
              "      <td>...</td>\n",
              "      <td>0</td>\n",
              "      <td>0</td>\n",
              "      <td>0</td>\n",
              "      <td>0</td>\n",
              "      <td>0</td>\n",
              "      <td>0</td>\n",
              "      <td>0</td>\n",
              "      <td>0</td>\n",
              "      <td>0</td>\n",
              "      <td>0</td>\n",
              "    </tr>\n",
              "    <tr>\n",
              "      <th>2016-04-01 22:57:15</th>\n",
              "      <td>2.0</td>\n",
              "      <td>3</td>\n",
              "      <td>40.7388</td>\n",
              "      <td>-73.9851</td>\n",
              "      <td>5850</td>\n",
              "      <td>high</td>\n",
              "      <td>1</td>\n",
              "      <td>1</td>\n",
              "      <td>0</td>\n",
              "      <td>1</td>\n",
              "      <td>...</td>\n",
              "      <td>0</td>\n",
              "      <td>0</td>\n",
              "      <td>0</td>\n",
              "      <td>0</td>\n",
              "      <td>0</td>\n",
              "      <td>0</td>\n",
              "      <td>0</td>\n",
              "      <td>0</td>\n",
              "      <td>0</td>\n",
              "      <td>1</td>\n",
              "    </tr>\n",
              "    <tr>\n",
              "      <th>2016-04-01 23:26:07</th>\n",
              "      <td>1.0</td>\n",
              "      <td>1</td>\n",
              "      <td>40.7939</td>\n",
              "      <td>-73.9738</td>\n",
              "      <td>2745</td>\n",
              "      <td>medium</td>\n",
              "      <td>1</td>\n",
              "      <td>1</td>\n",
              "      <td>0</td>\n",
              "      <td>1</td>\n",
              "      <td>...</td>\n",
              "      <td>0</td>\n",
              "      <td>0</td>\n",
              "      <td>0</td>\n",
              "      <td>0</td>\n",
              "      <td>0</td>\n",
              "      <td>0</td>\n",
              "      <td>0</td>\n",
              "      <td>0</td>\n",
              "      <td>0</td>\n",
              "      <td>1</td>\n",
              "    </tr>\n",
              "    <tr>\n",
              "      <th>2016-04-02 00:48:13</th>\n",
              "      <td>1.0</td>\n",
              "      <td>1</td>\n",
              "      <td>40.7784</td>\n",
              "      <td>-73.9491</td>\n",
              "      <td>2400</td>\n",
              "      <td>medium</td>\n",
              "      <td>1</td>\n",
              "      <td>1</td>\n",
              "      <td>0</td>\n",
              "      <td>1</td>\n",
              "      <td>...</td>\n",
              "      <td>0</td>\n",
              "      <td>0</td>\n",
              "      <td>0</td>\n",
              "      <td>0</td>\n",
              "      <td>0</td>\n",
              "      <td>0</td>\n",
              "      <td>0</td>\n",
              "      <td>0</td>\n",
              "      <td>0</td>\n",
              "      <td>0</td>\n",
              "    </tr>\n",
              "  </tbody>\n",
              "</table>\n",
              "<p>5 rows × 30 columns</p>\n",
              "</div>\n",
              "      <button class=\"colab-df-convert\" onclick=\"convertToInteractive('df-4201ad9d-a1cd-4469-9800-bb2ea25a4678')\"\n",
              "              title=\"Convert this dataframe to an interactive table.\"\n",
              "              style=\"display:none;\">\n",
              "        \n",
              "  <svg xmlns=\"http://www.w3.org/2000/svg\" height=\"24px\"viewBox=\"0 0 24 24\"\n",
              "       width=\"24px\">\n",
              "    <path d=\"M0 0h24v24H0V0z\" fill=\"none\"/>\n",
              "    <path d=\"M18.56 5.44l.94 2.06.94-2.06 2.06-.94-2.06-.94-.94-2.06-.94 2.06-2.06.94zm-11 1L8.5 8.5l.94-2.06 2.06-.94-2.06-.94L8.5 2.5l-.94 2.06-2.06.94zm10 10l.94 2.06.94-2.06 2.06-.94-2.06-.94-.94-2.06-.94 2.06-2.06.94z\"/><path d=\"M17.41 7.96l-1.37-1.37c-.4-.4-.92-.59-1.43-.59-.52 0-1.04.2-1.43.59L10.3 9.45l-7.72 7.72c-.78.78-.78 2.05 0 2.83L4 21.41c.39.39.9.59 1.41.59.51 0 1.02-.2 1.41-.59l7.78-7.78 2.81-2.81c.8-.78.8-2.07 0-2.86zM5.41 20L4 18.59l7.72-7.72 1.47 1.35L5.41 20z\"/>\n",
              "  </svg>\n",
              "      </button>\n",
              "      \n",
              "  <style>\n",
              "    .colab-df-container {\n",
              "      display:flex;\n",
              "      flex-wrap:wrap;\n",
              "      gap: 12px;\n",
              "    }\n",
              "\n",
              "    .colab-df-convert {\n",
              "      background-color: #E8F0FE;\n",
              "      border: none;\n",
              "      border-radius: 50%;\n",
              "      cursor: pointer;\n",
              "      display: none;\n",
              "      fill: #1967D2;\n",
              "      height: 32px;\n",
              "      padding: 0 0 0 0;\n",
              "      width: 32px;\n",
              "    }\n",
              "\n",
              "    .colab-df-convert:hover {\n",
              "      background-color: #E2EBFA;\n",
              "      box-shadow: 0px 1px 2px rgba(60, 64, 67, 0.3), 0px 1px 3px 1px rgba(60, 64, 67, 0.15);\n",
              "      fill: #174EA6;\n",
              "    }\n",
              "\n",
              "    [theme=dark] .colab-df-convert {\n",
              "      background-color: #3B4455;\n",
              "      fill: #D2E3FC;\n",
              "    }\n",
              "\n",
              "    [theme=dark] .colab-df-convert:hover {\n",
              "      background-color: #434B5C;\n",
              "      box-shadow: 0px 1px 3px 1px rgba(0, 0, 0, 0.15);\n",
              "      filter: drop-shadow(0px 1px 2px rgba(0, 0, 0, 0.3));\n",
              "      fill: #FFFFFF;\n",
              "    }\n",
              "  </style>\n",
              "\n",
              "      <script>\n",
              "        const buttonEl =\n",
              "          document.querySelector('#df-4201ad9d-a1cd-4469-9800-bb2ea25a4678 button.colab-df-convert');\n",
              "        buttonEl.style.display =\n",
              "          google.colab.kernel.accessAllowed ? 'block' : 'none';\n",
              "\n",
              "        async function convertToInteractive(key) {\n",
              "          const element = document.querySelector('#df-4201ad9d-a1cd-4469-9800-bb2ea25a4678');\n",
              "          const dataTable =\n",
              "            await google.colab.kernel.invokeFunction('convertToInteractive',\n",
              "                                                     [key], {});\n",
              "          if (!dataTable) return;\n",
              "\n",
              "          const docLinkHtml = 'Like what you see? Visit the ' +\n",
              "            '<a target=\"_blank\" href=https://colab.research.google.com/notebooks/data_table.ipynb>data table notebook</a>'\n",
              "            + ' to learn more about interactive tables.';\n",
              "          element.innerHTML = '';\n",
              "          dataTable['output_type'] = 'display_data';\n",
              "          await google.colab.output.renderOutput(dataTable, element);\n",
              "          const docLink = document.createElement('div');\n",
              "          docLink.innerHTML = docLinkHtml;\n",
              "          element.appendChild(docLink);\n",
              "        }\n",
              "      </script>\n",
              "    </div>\n",
              "  </div>\n",
              "  "
            ]
          },
          "metadata": {},
          "execution_count": 5
        }
      ]
    },
    {
      "cell_type": "code",
      "metadata": {
        "id": "Q5Wg9wSJPHND",
        "colab": {
          "base_uri": "https://localhost:8080/"
        },
        "outputId": "ff2128ca-8f55-41b6-f114-d22b36c13fbb"
      },
      "source": [
        "df.info()"
      ],
      "execution_count": null,
      "outputs": [
        {
          "output_type": "stream",
          "name": "stdout",
          "text": [
            "<class 'pandas.core.frame.DataFrame'>\n",
            "DatetimeIndex: 49026 entries, 2016-04-01 22:12:41 to 2016-06-29 21:41:47\n",
            "Data columns (total 30 columns):\n",
            " #   Column                Non-Null Count  Dtype  \n",
            "---  ------                --------------  -----  \n",
            " 0   bathrooms             49026 non-null  float64\n",
            " 1   bedrooms              49026 non-null  int64  \n",
            " 2   latitude              49026 non-null  float64\n",
            " 3   longitude             49026 non-null  float64\n",
            " 4   price                 49026 non-null  int64  \n",
            " 5   interest_level        49026 non-null  object \n",
            " 6   elevator              49026 non-null  int64  \n",
            " 7   cats_allowed          49026 non-null  int64  \n",
            " 8   hardwood_floors       49026 non-null  int64  \n",
            " 9   dogs_allowed          49026 non-null  int64  \n",
            " 10  doorman               49026 non-null  int64  \n",
            " 11  dishwasher            49026 non-null  int64  \n",
            " 12  no_fee                49026 non-null  int64  \n",
            " 13  laundry_in_building   49026 non-null  int64  \n",
            " 14  fitness_center        49026 non-null  int64  \n",
            " 15  pre-war               49026 non-null  int64  \n",
            " 16  laundry_in_unit       49026 non-null  int64  \n",
            " 17  roof_deck             49026 non-null  int64  \n",
            " 18  outdoor_space         49026 non-null  int64  \n",
            " 19  dining_room           49026 non-null  int64  \n",
            " 20  high_speed_internet   49026 non-null  int64  \n",
            " 21  balcony               49026 non-null  int64  \n",
            " 22  swimming_pool         49026 non-null  int64  \n",
            " 23  new_construction      49026 non-null  int64  \n",
            " 24  terrace               49026 non-null  int64  \n",
            " 25  exclusive             49026 non-null  int64  \n",
            " 26  loft                  49026 non-null  int64  \n",
            " 27  garden_patio          49026 non-null  int64  \n",
            " 28  wheelchair_access     49026 non-null  int64  \n",
            " 29  common_outdoor_space  49026 non-null  int64  \n",
            "dtypes: float64(3), int64(26), object(1)\n",
            "memory usage: 11.6+ MB\n"
          ]
        }
      ]
    },
    {
      "cell_type": "markdown",
      "metadata": {
        "id": "Fr-x5LJo0pRc"
      },
      "source": [
        "# II. Split Data\n",
        "\n",
        "Split **target vector** from **feature matrix**."
      ]
    },
    {
      "cell_type": "code",
      "metadata": {
        "id": "r2TXo5xLo662"
      },
      "source": [
        "target = 'price'\n",
        "y = df[target]\n",
        "X = df.drop(columns=target)"
      ],
      "execution_count": null,
      "outputs": []
    },
    {
      "cell_type": "markdown",
      "metadata": {
        "id": "ZMoRDMuT7A7q"
      },
      "source": [
        "Split data into **training** and **test** sets.\n",
        "\n",
        "(Use data from April & May 2016 to train. Use data from June 2016 to test.)"
      ]
    },
    {
      "cell_type": "code",
      "metadata": {
        "id": "7w92aZ7co9CA"
      },
      "source": [
        "cutoff = '2016-06-01'\n",
        "mask = X.index < cutoff\n",
        "\n",
        "X_train, y_train = X.loc[mask], y.loc[mask]\n",
        "X_test, y_test = X.loc[~mask], y.loc[~mask]"
      ],
      "execution_count": null,
      "outputs": []
    },
    {
      "cell_type": "markdown",
      "metadata": {
        "id": "-x9lFKmupRWk"
      },
      "source": [
        "# III. Establish Baseline"
      ]
    },
    {
      "cell_type": "markdown",
      "metadata": {
        "id": "d1BOKNBc7Jnf"
      },
      "source": [
        "**Note:** This is a **regression** problem because we're predictiong the continuous value `'price'`."
      ]
    },
    {
      "cell_type": "code",
      "metadata": {
        "id": "-XNZHgf-7XQc",
        "colab": {
          "base_uri": "https://localhost:8080/"
        },
        "outputId": "30512ee9-57c3-49da-dd03-819b17f2677a"
      },
      "source": [
        "y_pred = [y_train.mean()] * len(y_train)\n",
        "print('Mean price:', y_train.mean())\n",
        "print('Baseline MAE:', mean_absolute_error(y_train, y_pred))"
      ],
      "execution_count": null,
      "outputs": [
        {
          "output_type": "stream",
          "name": "stdout",
          "text": [
            "Mean price: 3565.095561112848\n",
            "Baseline MAE: 1203.9726810650523\n"
          ]
        }
      ]
    },
    {
      "cell_type": "markdown",
      "metadata": {
        "id": "Xea7aFidqPoV"
      },
      "source": [
        "# IV. Build Models\n",
        "\n",
        "Combine transformers and predictor with `Pipeline`."
      ]
    },
    {
      "cell_type": "code",
      "metadata": {
        "id": "sgE40gEBdNUX"
      },
      "source": [
        "# # Step 1: Import your transformer class\n",
        "# # We did above ☝️\n",
        "\n",
        "# # Step 2: Instantiate your transformer\n",
        "ohe = OneHotEncoder(use_cat_names=True)\n",
        "\n",
        "# # Step 3: Fit your transformer to the TRAINING data\n",
        "ohe.fit(X_train)\n",
        "\n",
        "# # Step 4: Transform my training and test data\n",
        "XT_train = ohe.transform(X_train)\n",
        "XT_test = ohe.transform(X_test)"
      ],
      "execution_count": null,
      "outputs": []
    },
    {
      "cell_type": "markdown",
      "metadata": {
        "id": "gMjtQqeVQufl"
      },
      "source": [
        "Ridge regression (regularization)"
      ]
    },
    {
      "cell_type": "code",
      "metadata": {
        "id": "CFuHUaCodeft"
      },
      "source": [
        "model_r = Ridge(alpha=1.0)\n",
        "model_r.fit(XT_train, y_train)"
      ],
      "execution_count": null,
      "outputs": []
    },
    {
      "cell_type": "code",
      "metadata": {
        "id": "ZRs-fAaeQt1e"
      },
      "source": [
        "\n"
      ],
      "execution_count": null,
      "outputs": []
    },
    {
      "cell_type": "markdown",
      "metadata": {
        "id": "rHhIH6VE0iRH"
      },
      "source": [
        "# V. Check Metrics"
      ]
    },
    {
      "cell_type": "code",
      "metadata": {
        "id": "BXrqHj_lHPum"
      },
      "source": [
        "print('Ridge training MAE:', mean_absolute_error(y_train, model_r.predict(XT_train)))\n",
        "print('Ridge test MAE:', mean_absolute_error(y_test, model_r.predict(XT_test)))"
      ],
      "execution_count": null,
      "outputs": []
    },
    {
      "cell_type": "markdown",
      "metadata": {
        "id": "siCJsyz9WeKr"
      },
      "source": [
        "# VI. Tune Model"
      ]
    },
    {
      "cell_type": "markdown",
      "metadata": {
        "id": "NnTbGxvddybM"
      },
      "source": [
        "** Interlude: How do you know what the best hyperparameter values are? **"
      ]
    },
    {
      "cell_type": "code",
      "metadata": {
        "id": "37cNUoQ2XPhL"
      },
      "source": [
        "alphas = np.arange(1.0, 20.5, 0.5)\n",
        "\n",
        "train_mae = []\n",
        "test_mae = []\n",
        "\n",
        "\n",
        "for a in alphas:\n",
        "  model_r = make_pipeline(\n",
        "    OneHotEncoder(use_cat_names=True),\n",
        "    Ridge(alpha=a) # HYPERPARAMETER\n",
        "  )\n",
        "\n",
        "  model_r.fit(X_train, y_train)\n",
        "  train_mae.append(mean_absolute_error(y_train, model_r.predict(X_train)))\n",
        "  test_mae.append(mean_absolute_error(y_test, model_r.predict(X_test)))\n"
      ],
      "execution_count": null,
      "outputs": []
    },
    {
      "cell_type": "code",
      "metadata": {
        "id": "waEB5-ZBYb_r"
      },
      "source": [
        "plt.plot(alphas, train_mae, color='orange', label='training')\n",
        "# plt.plot(alphas, test_mae, color='blue', label='test')\n",
        "plt.xlabel('alpha')\n",
        "plt.ylabel('mean absolute error')\n",
        "plt.legend();"
      ],
      "execution_count": null,
      "outputs": []
    },
    {
      "cell_type": "markdown",
      "metadata": {
        "id": "uI9K2OXDWThQ"
      },
      "source": [
        "# VII. Communicate results"
      ]
    },
    {
      "cell_type": "code",
      "metadata": {
        "id": "RlAyipCNav1H"
      },
      "source": [
        "coefficients = model_r.coef_\n",
        "features = model_r.get_feature_names()\n",
        "feat_imp = pd.Series(coefficients, index=features).sort_values(key=abs)\n",
        "feat_imp.tail(20).plot(kind='barh')\n",
        "plt.xlabel('Coefficient [$]')\n",
        "plt.ylabel('Feature')\n",
        "plt.title('Coefficients for Ridge Regression');"
      ],
      "execution_count": null,
      "outputs": []
    }
  ]
}